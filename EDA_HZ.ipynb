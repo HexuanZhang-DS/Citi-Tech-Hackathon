{
 "cells": [
  {
   "cell_type": "markdown",
   "metadata": {},
   "source": [
    "# Exploratory Data Analysis"
   ]
  },
  {
   "cell_type": "code",
   "execution_count": 1,
   "metadata": {},
   "outputs": [],
   "source": [
    "import numpy as np\n",
    "import pandas as pd\n",
    "pd.set_option('display.max_rows', 100)\n",
    "pd.set_option('display.max_columns', None)\n",
    "import matplotlib.pyplot as plt\n",
    "plt.style.use(\"fivethirtyeight\")\n",
    "%matplotlib inline\n",
    "import seaborn as sns\n",
    "import warnings\n",
    "warnings.filterwarnings(\"ignore\")"
   ]
  },
  {
   "cell_type": "code",
   "execution_count": 2,
   "metadata": {},
   "outputs": [],
   "source": [
    "df = pd.read_csv(\"data/combined_data.csv\")"
   ]
  },
  {
   "cell_type": "code",
   "execution_count": 3,
   "metadata": {
    "scrolled": true
   },
   "outputs": [
    {
     "data": {
      "text/html": [
       "<div>\n",
       "<style scoped>\n",
       "    .dataframe tbody tr th:only-of-type {\n",
       "        vertical-align: middle;\n",
       "    }\n",
       "\n",
       "    .dataframe tbody tr th {\n",
       "        vertical-align: top;\n",
       "    }\n",
       "\n",
       "    .dataframe thead th {\n",
       "        text-align: right;\n",
       "    }\n",
       "</style>\n",
       "<table border=\"1\" class=\"dataframe\">\n",
       "  <thead>\n",
       "    <tr style=\"text-align: right;\">\n",
       "      <th></th>\n",
       "      <th>OCC10</th>\n",
       "      <th>SIBS</th>\n",
       "      <th>AGE</th>\n",
       "      <th>EDUC</th>\n",
       "      <th>PAEDUC</th>\n",
       "      <th>MAEDUC</th>\n",
       "      <th>DEGREE</th>\n",
       "      <th>PADEG</th>\n",
       "      <th>MADEG</th>\n",
       "      <th>MAJOR1</th>\n",
       "      <th>MAJOR2</th>\n",
       "      <th>DIPGED</th>\n",
       "      <th>SECTOR</th>\n",
       "      <th>BARATE</th>\n",
       "      <th>SEX</th>\n",
       "      <th>RACE</th>\n",
       "      <th>RES16</th>\n",
       "      <th>REG16</th>\n",
       "      <th>FAMILY16</th>\n",
       "      <th>MAWRKGRW</th>\n",
       "      <th>INCOM16</th>\n",
       "      <th>BORN</th>\n",
       "      <th>PARBORN</th>\n",
       "      <th>GRANBORN</th>\n",
       "      <th>POLVIEWS</th>\n",
       "      <th>INCOME</th>\n",
       "    </tr>\n",
       "  </thead>\n",
       "  <tbody>\n",
       "    <tr>\n",
       "      <th>0</th>\n",
       "      <td>Broadcast and sound engineering technicians an...</td>\n",
       "      <td>1.0</td>\n",
       "      <td>26.0</td>\n",
       "      <td>16.0</td>\n",
       "      <td>16.0</td>\n",
       "      <td>16.0</td>\n",
       "      <td>BACHELOR</td>\n",
       "      <td>BACHELOR</td>\n",
       "      <td>GRADUATE</td>\n",
       "      <td>NaN</td>\n",
       "      <td>NaN</td>\n",
       "      <td>NaN</td>\n",
       "      <td>NaN</td>\n",
       "      <td>NaN</td>\n",
       "      <td>MALE</td>\n",
       "      <td>WHITE</td>\n",
       "      <td>CITY GT 250000</td>\n",
       "      <td>W. SOU. CENTRAL</td>\n",
       "      <td>MOTHER &amp; FATHER</td>\n",
       "      <td>YES</td>\n",
       "      <td>NaN</td>\n",
       "      <td>YES</td>\n",
       "      <td>BOTH IN U.S</td>\n",
       "      <td>1.0</td>\n",
       "      <td>SLGHTLY CONSERVATIVE</td>\n",
       "      <td>$8 000 TO 9 999</td>\n",
       "    </tr>\n",
       "    <tr>\n",
       "      <th>1</th>\n",
       "      <td>Advertising and promotions managers</td>\n",
       "      <td>6.0</td>\n",
       "      <td>44.0</td>\n",
       "      <td>14.0</td>\n",
       "      <td>12.0</td>\n",
       "      <td>12.0</td>\n",
       "      <td>JUNIOR COLLEGE</td>\n",
       "      <td>HIGH SCHOOL</td>\n",
       "      <td>HIGH SCHOOL</td>\n",
       "      <td>NaN</td>\n",
       "      <td>NaN</td>\n",
       "      <td>NaN</td>\n",
       "      <td>NaN</td>\n",
       "      <td>NaN</td>\n",
       "      <td>FEMALE</td>\n",
       "      <td>WHITE</td>\n",
       "      <td>BIG-CITY SUBURB</td>\n",
       "      <td>E. NOR. CENTRAL</td>\n",
       "      <td>MOTHER &amp; FATHER</td>\n",
       "      <td>YES</td>\n",
       "      <td>NaN</td>\n",
       "      <td>YES</td>\n",
       "      <td>BOTH IN U.S</td>\n",
       "      <td>1.0</td>\n",
       "      <td>LIBERAL</td>\n",
       "      <td>$7 000 TO 7 999</td>\n",
       "    </tr>\n",
       "    <tr>\n",
       "      <th>2</th>\n",
       "      <td>First-line supervisors of office and administr...</td>\n",
       "      <td>0.0</td>\n",
       "      <td>44.0</td>\n",
       "      <td>18.0</td>\n",
       "      <td>11.0</td>\n",
       "      <td>11.0</td>\n",
       "      <td>GRADUATE</td>\n",
       "      <td>HIGH SCHOOL</td>\n",
       "      <td>HIGH SCHOOL</td>\n",
       "      <td>NaN</td>\n",
       "      <td>NaN</td>\n",
       "      <td>NaN</td>\n",
       "      <td>NaN</td>\n",
       "      <td>NaN</td>\n",
       "      <td>MALE</td>\n",
       "      <td>WHITE</td>\n",
       "      <td>TOWN LT 50000</td>\n",
       "      <td>W. SOU. CENTRAL</td>\n",
       "      <td>MOTHER &amp; FATHER</td>\n",
       "      <td>YES</td>\n",
       "      <td>NaN</td>\n",
       "      <td>YES</td>\n",
       "      <td>BOTH IN U.S</td>\n",
       "      <td>ALL IN U.S</td>\n",
       "      <td>SLIGHTLY LIBERAL</td>\n",
       "      <td>$50000 TO 59999</td>\n",
       "    </tr>\n",
       "    <tr>\n",
       "      <th>3</th>\n",
       "      <td>Dispatchers</td>\n",
       "      <td>8.0</td>\n",
       "      <td>40.0</td>\n",
       "      <td>16.0</td>\n",
       "      <td>10.0</td>\n",
       "      <td>10.0</td>\n",
       "      <td>HIGH SCHOOL</td>\n",
       "      <td>LT HIGH SCHOOL</td>\n",
       "      <td>LT HIGH SCHOOL</td>\n",
       "      <td>NaN</td>\n",
       "      <td>NaN</td>\n",
       "      <td>NaN</td>\n",
       "      <td>NaN</td>\n",
       "      <td>NaN</td>\n",
       "      <td>MALE</td>\n",
       "      <td>BLACK</td>\n",
       "      <td>TOWN LT 50000</td>\n",
       "      <td>W. SOU. CENTRAL</td>\n",
       "      <td>MOTHER &amp; FATHER</td>\n",
       "      <td>YES</td>\n",
       "      <td>NaN</td>\n",
       "      <td>YES</td>\n",
       "      <td>BOTH IN U.S</td>\n",
       "      <td>ALL IN U.S</td>\n",
       "      <td>MODERATE</td>\n",
       "      <td>$25000 TO 29999</td>\n",
       "    </tr>\n",
       "    <tr>\n",
       "      <th>4</th>\n",
       "      <td>Software developers, applications and systems ...</td>\n",
       "      <td>7.0</td>\n",
       "      <td>37.0</td>\n",
       "      <td>16.0</td>\n",
       "      <td>NaN</td>\n",
       "      <td>13.0</td>\n",
       "      <td>BACHELOR</td>\n",
       "      <td>NaN</td>\n",
       "      <td>HIGH SCHOOL</td>\n",
       "      <td>NaN</td>\n",
       "      <td>NaN</td>\n",
       "      <td>NaN</td>\n",
       "      <td>NaN</td>\n",
       "      <td>NaN</td>\n",
       "      <td>MALE</td>\n",
       "      <td>WHITE</td>\n",
       "      <td>COUNTRY,NONFARM</td>\n",
       "      <td>W. SOU. CENTRAL</td>\n",
       "      <td>MOTHER</td>\n",
       "      <td>YES</td>\n",
       "      <td>NaN</td>\n",
       "      <td>YES</td>\n",
       "      <td>BOTH IN U.S</td>\n",
       "      <td>NaN</td>\n",
       "      <td>LIBERAL</td>\n",
       "      <td>$75000 TO $89999</td>\n",
       "    </tr>\n",
       "  </tbody>\n",
       "</table>\n",
       "</div>"
      ],
      "text/plain": [
       "                                               OCC10  SIBS   AGE  EDUC  \\\n",
       "0  Broadcast and sound engineering technicians an...   1.0  26.0  16.0   \n",
       "1                Advertising and promotions managers   6.0  44.0  14.0   \n",
       "2  First-line supervisors of office and administr...   0.0  44.0  18.0   \n",
       "3                                        Dispatchers   8.0  40.0  16.0   \n",
       "4  Software developers, applications and systems ...   7.0  37.0  16.0   \n",
       "\n",
       "   PAEDUC  MAEDUC          DEGREE           PADEG           MADEG MAJOR1  \\\n",
       "0    16.0    16.0        BACHELOR        BACHELOR        GRADUATE    NaN   \n",
       "1    12.0    12.0  JUNIOR COLLEGE     HIGH SCHOOL     HIGH SCHOOL    NaN   \n",
       "2    11.0    11.0        GRADUATE     HIGH SCHOOL     HIGH SCHOOL    NaN   \n",
       "3    10.0    10.0     HIGH SCHOOL  LT HIGH SCHOOL  LT HIGH SCHOOL    NaN   \n",
       "4     NaN    13.0        BACHELOR             NaN     HIGH SCHOOL    NaN   \n",
       "\n",
       "  MAJOR2 DIPGED SECTOR BARATE     SEX   RACE            RES16  \\\n",
       "0    NaN    NaN    NaN    NaN    MALE  WHITE   CITY GT 250000   \n",
       "1    NaN    NaN    NaN    NaN  FEMALE  WHITE  BIG-CITY SUBURB   \n",
       "2    NaN    NaN    NaN    NaN    MALE  WHITE    TOWN LT 50000   \n",
       "3    NaN    NaN    NaN    NaN    MALE  BLACK    TOWN LT 50000   \n",
       "4    NaN    NaN    NaN    NaN    MALE  WHITE  COUNTRY,NONFARM   \n",
       "\n",
       "             REG16         FAMILY16 MAWRKGRW INCOM16 BORN      PARBORN  \\\n",
       "0  W. SOU. CENTRAL  MOTHER & FATHER      YES     NaN  YES  BOTH IN U.S   \n",
       "1  E. NOR. CENTRAL  MOTHER & FATHER      YES     NaN  YES  BOTH IN U.S   \n",
       "2  W. SOU. CENTRAL  MOTHER & FATHER      YES     NaN  YES  BOTH IN U.S   \n",
       "3  W. SOU. CENTRAL  MOTHER & FATHER      YES     NaN  YES  BOTH IN U.S   \n",
       "4  W. SOU. CENTRAL           MOTHER      YES     NaN  YES  BOTH IN U.S   \n",
       "\n",
       "     GRANBORN              POLVIEWS            INCOME  \n",
       "0         1.0  SLGHTLY CONSERVATIVE   $8 000 TO 9 999  \n",
       "1         1.0               LIBERAL   $7 000 TO 7 999  \n",
       "2  ALL IN U.S      SLIGHTLY LIBERAL   $50000 TO 59999  \n",
       "3  ALL IN U.S              MODERATE   $25000 TO 29999  \n",
       "4         NaN               LIBERAL  $75000 TO $89999  "
      ]
     },
     "execution_count": 3,
     "metadata": {},
     "output_type": "execute_result"
    }
   ],
   "source": [
    "df.head()"
   ]
  },
  {
   "cell_type": "code",
   "execution_count": 4,
   "metadata": {
    "scrolled": true
   },
   "outputs": [
    {
     "data": {
      "text/plain": [
       "array(['$8 000 TO 9 999', '$7 000 TO 7 999', '$50000 TO 59999',\n",
       "       '$25000 TO 29999', '$75000 TO $89999', '$60000 TO 74999',\n",
       "       '$20000 TO 22499', '$10000 TO 12499', '$40000 TO 49999',\n",
       "       '$1 000 TO 2 999', '$30000 TO 34999', '$35000 TO 39999',\n",
       "       '$3 000 TO 3 999', '$17500 TO 19999', '$22500 TO 24999',\n",
       "       'UNDER $1 000', '$110000 OR OVER', '$4 000 TO 4 999',\n",
       "       '$15000 TO 17499', '$6 000 TO 6 999', '$5 000 TO 5 999',\n",
       "       '$90000 - $109999', '$12500 TO 14999', '$90000 TO $109999',\n",
       "       '$130000 TO $149999', '$150000 OR OVER', '$110000 TO $129999',\n",
       "       '$170000 OR OVER', '$150000 TO $169999'], dtype=object)"
      ]
     },
     "execution_count": 4,
     "metadata": {},
     "output_type": "execute_result"
    }
   ],
   "source": [
    "df[\"INCOME\"].unique()"
   ]
  },
  {
   "cell_type": "markdown",
   "metadata": {},
   "source": [
    "### Income Breakdown"
   ]
  },
  {
   "cell_type": "code",
   "execution_count": 5,
   "metadata": {
    "scrolled": true
   },
   "outputs": [
    {
     "data": {
      "text/plain": [
       "<matplotlib.axes._subplots.AxesSubplot at 0x2099536eac0>"
      ]
     },
     "execution_count": 5,
     "metadata": {},
     "output_type": "execute_result"
    },
    {
     "data": {
      "image/png": "[encoded data removed]",
      "text/plain": [
       "<Figure size 1440x432 with 1 Axes>"
      ]
     },
     "metadata": {
      "needs_background": "light"
     },
     "output_type": "display_data"
    }
   ],
   "source": [
    "plt.figure(figsize=(20,6))\n",
    "sns.countplot(x=\"INCOME\", data=df)"
   ]
  },
  {
   "cell_type": "markdown",
   "metadata": {},
   "source": [
    "### Sibling and Income"
   ]
  },
  {
   "cell_type": "code",
   "execution_count": 6,
   "metadata": {},
   "outputs": [
    {
     "data": {
      "text/plain": [
       "<seaborn.axisgrid.FacetGrid at 0x2099af52520>"
      ]
     },
     "execution_count": 6,
     "metadata": {},
     "output_type": "execute_result"
    },
    {
     "data": {
      "image/png": "[encoded data removed]",
      "text/plain": [
       "<Figure size 1080x360 with 1 Axes>"
      ]
     },
     "metadata": {
      "needs_background": "light"
     },
     "output_type": "display_data"
    }
   ],
   "source": [
    "sns.catplot(x=\"INCOME\", y=\"SIBS\", kind=\"box\", data=df, height=5, aspect=15/5)"
   ]
  },
  {
   "cell_type": "markdown",
   "metadata": {},
   "source": [
    "### Father's Education (in years) and Income"
   ]
  },
  {
   "cell_type": "code",
   "execution_count": 7,
   "metadata": {},
   "outputs": [
    {
     "data": {
      "text/plain": [
       "<seaborn.axisgrid.FacetGrid at 0x2099b396730>"
      ]
     },
     "execution_count": 7,
     "metadata": {},
     "output_type": "execute_result"
    },
    {
     "data": {
      "image/png": "[encoded data removed]",
      "text/plain": [
       "<Figure size 1080x360 with 1 Axes>"
      ]
     },
     "metadata": {
      "needs_background": "light"
     },
     "output_type": "display_data"
    }
   ],
   "source": [
    "sns.catplot(x=\"INCOME\", y=\"PAEDUC\", kind=\"box\", data=df, height=5, aspect=15/5)"
   ]
  },
  {
   "cell_type": "markdown",
   "metadata": {},
   "source": [
    "### Mother's Education (in years) and Income"
   ]
  },
  {
   "cell_type": "code",
   "execution_count": 8,
   "metadata": {
    "scrolled": true
   },
   "outputs": [
    {
     "data": {
      "text/plain": [
       "<seaborn.axisgrid.FacetGrid at 0x2099b823b50>"
      ]
     },
     "execution_count": 8,
     "metadata": {},
     "output_type": "execute_result"
    },
    {
     "data": {
      "image/png": "[encoded data removed]",
      "text/plain": [
       "<Figure size 1080x360 with 1 Axes>"
      ]
     },
     "metadata": {
      "needs_background": "light"
     },
     "output_type": "display_data"
    }
   ],
   "source": [
    "sns.catplot(x=\"INCOME\", y=\"MAEDUC\", kind=\"box\", data=df, height=5, aspect=15/5)"
   ]
  },
  {
   "cell_type": "markdown",
   "metadata": {},
   "source": [
    "### Distributions and Correlations"
   ]
  },
  {
   "cell_type": "code",
   "execution_count": 9,
   "metadata": {},
   "outputs": [
    {
     "data": {
      "text/plain": [
       "<matplotlib.axes._subplots.AxesSubplot at 0x2099bc80ee0>"
      ]
     },
     "execution_count": 9,
     "metadata": {},
     "output_type": "execute_result"
    },
    {
     "data": {
      "image/png": "[encoded data removed]",
      "text/plain": [
       "<Figure size 432x288 with 1 Axes>"
      ]
     },
     "metadata": {
      "needs_background": "light"
     },
     "output_type": "display_data"
    }
   ],
   "source": [
    "sns.distplot(df[\"SIBS\"])"
   ]
  },
  {
   "cell_type": "code",
   "execution_count": 10,
   "metadata": {},
   "outputs": [
    {
     "data": {
      "text/plain": [
       "<matplotlib.axes._subplots.AxesSubplot at 0x2099bec8ac0>"
      ]
     },
     "execution_count": 10,
     "metadata": {},
     "output_type": "execute_result"
    },
    {
     "data": {
      "image/png": "[encoded data removed]",
      "text/plain": [
       "<Figure size 432x288 with 1 Axes>"
      ]
     },
     "metadata": {
      "needs_background": "light"
     },
     "output_type": "display_data"
    }
   ],
   "source": [
    "sns.distplot(df[\"AGE\"])"
   ]
  },
  {
   "cell_type": "code",
   "execution_count": 11,
   "metadata": {},
   "outputs": [
    {
     "data": {
      "text/plain": [
       "<matplotlib.axes._subplots.AxesSubplot at 0x2099beac8b0>"
      ]
     },
     "execution_count": 11,
     "metadata": {},
     "output_type": "execute_result"
    },
    {
     "data": {
      "image/png": "[encoded data removed]",
      "text/plain": [
       "<Figure size 432x288 with 1 Axes>"
      ]
     },
     "metadata": {
      "needs_background": "light"
     },
     "output_type": "display_data"
    }
   ],
   "source": [
    "sns.distplot(df[\"EDUC\"])"
   ]
  },
  {
   "cell_type": "code",
   "execution_count": 12,
   "metadata": {},
   "outputs": [
    {
     "data": {
      "text/plain": [
       "<matplotlib.axes._subplots.AxesSubplot at 0x2099b37be80>"
      ]
     },
     "execution_count": 12,
     "metadata": {},
     "output_type": "execute_result"
    },
    {
     "data": {
      "image/png": "[encoded data removed]",
      "text/plain": [
       "<Figure size 432x288 with 1 Axes>"
      ]
     },
     "metadata": {
      "needs_background": "light"
     },
     "output_type": "display_data"
    }
   ],
   "source": [
    "sns.distplot(df[\"PAEDUC\"])"
   ]
  },
  {
   "cell_type": "code",
   "execution_count": 13,
   "metadata": {
    "scrolled": false
   },
   "outputs": [
    {
     "data": {
      "text/plain": [
       "<matplotlib.axes._subplots.AxesSubplot at 0x2099c007610>"
      ]
     },
     "execution_count": 13,
     "metadata": {},
     "output_type": "execute_result"
    },
    {
     "data": {
      "image/png": "[encoded data removed]",
      "text/plain": [
       "<Figure size 432x288 with 1 Axes>"
      ]
     },
     "metadata": {
      "needs_background": "light"
     },
     "output_type": "display_data"
    }
   ],
   "source": [
    "sns.distplot(df[\"MAEDUC\"])"
   ]
  },
  {
   "cell_type": "code",
   "execution_count": 14,
   "metadata": {},
   "outputs": [],
   "source": [
    "def get_income(x):\n",
    "    if x == '$8 000 TO 9 999':\n",
    "        return 8000\n",
    "    elif x == '$7 000 TO 7 999':\n",
    "        return 7000\n",
    "    elif x == '$50000 TO 59999':\n",
    "        return 50000\n",
    "    elif x == '$25000 TO 29999':\n",
    "        return 25000    \n",
    "    elif x == '$75000 TO $89999':\n",
    "        return 75000\n",
    "    elif x == '$60000 TO 74999':\n",
    "        return 60000\n",
    "    elif x == '$20000 TO 22499':\n",
    "        return 20000    \n",
    "    elif x == '$10000 TO 12499':\n",
    "        return 10000 \n",
    "    elif x == '$40000 TO 49999':\n",
    "        return 40000 \n",
    "    elif x == '$1 000 TO 2 999':\n",
    "        return 1000\n",
    "    elif x ==  '$30000 TO 34999':\n",
    "        return 30000\n",
    "    elif x ==  '$35000 TO 39999':\n",
    "        return 35000\n",
    "    elif x ==  '$3 000 TO 3 999':\n",
    "        return 3000\n",
    "    elif x ==  '$17500 TO 19999':\n",
    "        return 17500 \n",
    "    elif x ==  '$22500 TO 24999':\n",
    "        return 22500    \n",
    "    elif x ==  'UNDER $1 000':\n",
    "        return 1\n",
    "    elif x == '$110000 OR OVER':\n",
    "        return 110000\n",
    "    elif x ==  '$4 000 TO 4 999':\n",
    "        return 4000\n",
    "    elif x ==  '$15000 TO 17499':\n",
    "        return 15000\n",
    "    elif x ==  '$6 000 TO 6 999':\n",
    "        return 6000\n",
    "    elif x ==  '$5 000 TO 5 999':\n",
    "        return 5000    \n",
    "    elif x ==  '$90000 - $109999':\n",
    "        return 90000\n",
    "    elif x ==  '$12500 TO 14999':\n",
    "        return 12500\n",
    "    elif x ==  '$90000 TO $109999':\n",
    "        return 90000\n",
    "    elif x ==  '$130000 TO $149999':\n",
    "        return 130000 \n",
    "    elif x ==  '$150000 OR OVER':\n",
    "        return 150000\n",
    "    elif x ==  '$110000 TO $129999':\n",
    "        return 110000\n",
    "    elif x ==  '$170000 OR OVER':\n",
    "        return 170000\n",
    "    elif x ==  '$150000 TO $169999':\n",
    "        return 150000    \n",
    "    else:\n",
    "        return None       "
   ]
  },
  {
   "cell_type": "code",
   "execution_count": null,
   "metadata": {},
   "outputs": [],
   "source": []
  },
  {
   "cell_type": "code",
   "execution_count": 15,
   "metadata": {},
   "outputs": [],
   "source": [
    "df[\"INCOME\"] = df[\"INCOME\"].apply(lambda x: get_income(x))"
   ]
  },
  {
   "cell_type": "code",
   "execution_count": 16,
   "metadata": {},
   "outputs": [
    {
     "data": {
      "text/html": [
       "<div>\n",
       "<style scoped>\n",
       "    .dataframe tbody tr th:only-of-type {\n",
       "        vertical-align: middle;\n",
       "    }\n",
       "\n",
       "    .dataframe tbody tr th {\n",
       "        vertical-align: top;\n",
       "    }\n",
       "\n",
       "    .dataframe thead th {\n",
       "        text-align: right;\n",
       "    }\n",
       "</style>\n",
       "<table border=\"1\" class=\"dataframe\">\n",
       "  <thead>\n",
       "    <tr style=\"text-align: right;\">\n",
       "      <th></th>\n",
       "      <th>OCC10</th>\n",
       "      <th>SIBS</th>\n",
       "      <th>AGE</th>\n",
       "      <th>EDUC</th>\n",
       "      <th>PAEDUC</th>\n",
       "      <th>MAEDUC</th>\n",
       "      <th>DEGREE</th>\n",
       "      <th>PADEG</th>\n",
       "      <th>MADEG</th>\n",
       "      <th>MAJOR1</th>\n",
       "      <th>MAJOR2</th>\n",
       "      <th>DIPGED</th>\n",
       "      <th>SECTOR</th>\n",
       "      <th>BARATE</th>\n",
       "      <th>SEX</th>\n",
       "      <th>RACE</th>\n",
       "      <th>RES16</th>\n",
       "      <th>REG16</th>\n",
       "      <th>FAMILY16</th>\n",
       "      <th>MAWRKGRW</th>\n",
       "      <th>INCOM16</th>\n",
       "      <th>BORN</th>\n",
       "      <th>PARBORN</th>\n",
       "      <th>GRANBORN</th>\n",
       "      <th>POLVIEWS</th>\n",
       "      <th>INCOME</th>\n",
       "    </tr>\n",
       "  </thead>\n",
       "  <tbody>\n",
       "    <tr>\n",
       "      <th>0</th>\n",
       "      <td>Broadcast and sound engineering technicians an...</td>\n",
       "      <td>1.0</td>\n",
       "      <td>26.0</td>\n",
       "      <td>16.0</td>\n",
       "      <td>16.0</td>\n",
       "      <td>16.0</td>\n",
       "      <td>BACHELOR</td>\n",
       "      <td>BACHELOR</td>\n",
       "      <td>GRADUATE</td>\n",
       "      <td>NaN</td>\n",
       "      <td>NaN</td>\n",
       "      <td>NaN</td>\n",
       "      <td>NaN</td>\n",
       "      <td>NaN</td>\n",
       "      <td>MALE</td>\n",
       "      <td>WHITE</td>\n",
       "      <td>CITY GT 250000</td>\n",
       "      <td>W. SOU. CENTRAL</td>\n",
       "      <td>MOTHER &amp; FATHER</td>\n",
       "      <td>YES</td>\n",
       "      <td>NaN</td>\n",
       "      <td>YES</td>\n",
       "      <td>BOTH IN U.S</td>\n",
       "      <td>1.0</td>\n",
       "      <td>SLGHTLY CONSERVATIVE</td>\n",
       "      <td>8000</td>\n",
       "    </tr>\n",
       "    <tr>\n",
       "      <th>1</th>\n",
       "      <td>Advertising and promotions managers</td>\n",
       "      <td>6.0</td>\n",
       "      <td>44.0</td>\n",
       "      <td>14.0</td>\n",
       "      <td>12.0</td>\n",
       "      <td>12.0</td>\n",
       "      <td>JUNIOR COLLEGE</td>\n",
       "      <td>HIGH SCHOOL</td>\n",
       "      <td>HIGH SCHOOL</td>\n",
       "      <td>NaN</td>\n",
       "      <td>NaN</td>\n",
       "      <td>NaN</td>\n",
       "      <td>NaN</td>\n",
       "      <td>NaN</td>\n",
       "      <td>FEMALE</td>\n",
       "      <td>WHITE</td>\n",
       "      <td>BIG-CITY SUBURB</td>\n",
       "      <td>E. NOR. CENTRAL</td>\n",
       "      <td>MOTHER &amp; FATHER</td>\n",
       "      <td>YES</td>\n",
       "      <td>NaN</td>\n",
       "      <td>YES</td>\n",
       "      <td>BOTH IN U.S</td>\n",
       "      <td>1.0</td>\n",
       "      <td>LIBERAL</td>\n",
       "      <td>7000</td>\n",
       "    </tr>\n",
       "    <tr>\n",
       "      <th>2</th>\n",
       "      <td>First-line supervisors of office and administr...</td>\n",
       "      <td>0.0</td>\n",
       "      <td>44.0</td>\n",
       "      <td>18.0</td>\n",
       "      <td>11.0</td>\n",
       "      <td>11.0</td>\n",
       "      <td>GRADUATE</td>\n",
       "      <td>HIGH SCHOOL</td>\n",
       "      <td>HIGH SCHOOL</td>\n",
       "      <td>NaN</td>\n",
       "      <td>NaN</td>\n",
       "      <td>NaN</td>\n",
       "      <td>NaN</td>\n",
       "      <td>NaN</td>\n",
       "      <td>MALE</td>\n",
       "      <td>WHITE</td>\n",
       "      <td>TOWN LT 50000</td>\n",
       "      <td>W. SOU. CENTRAL</td>\n",
       "      <td>MOTHER &amp; FATHER</td>\n",
       "      <td>YES</td>\n",
       "      <td>NaN</td>\n",
       "      <td>YES</td>\n",
       "      <td>BOTH IN U.S</td>\n",
       "      <td>ALL IN U.S</td>\n",
       "      <td>SLIGHTLY LIBERAL</td>\n",
       "      <td>50000</td>\n",
       "    </tr>\n",
       "    <tr>\n",
       "      <th>3</th>\n",
       "      <td>Dispatchers</td>\n",
       "      <td>8.0</td>\n",
       "      <td>40.0</td>\n",
       "      <td>16.0</td>\n",
       "      <td>10.0</td>\n",
       "      <td>10.0</td>\n",
       "      <td>HIGH SCHOOL</td>\n",
       "      <td>LT HIGH SCHOOL</td>\n",
       "      <td>LT HIGH SCHOOL</td>\n",
       "      <td>NaN</td>\n",
       "      <td>NaN</td>\n",
       "      <td>NaN</td>\n",
       "      <td>NaN</td>\n",
       "      <td>NaN</td>\n",
       "      <td>MALE</td>\n",
       "      <td>BLACK</td>\n",
       "      <td>TOWN LT 50000</td>\n",
       "      <td>W. SOU. CENTRAL</td>\n",
       "      <td>MOTHER &amp; FATHER</td>\n",
       "      <td>YES</td>\n",
       "      <td>NaN</td>\n",
       "      <td>YES</td>\n",
       "      <td>BOTH IN U.S</td>\n",
       "      <td>ALL IN U.S</td>\n",
       "      <td>MODERATE</td>\n",
       "      <td>25000</td>\n",
       "    </tr>\n",
       "    <tr>\n",
       "      <th>4</th>\n",
       "      <td>Software developers, applications and systems ...</td>\n",
       "      <td>7.0</td>\n",
       "      <td>37.0</td>\n",
       "      <td>16.0</td>\n",
       "      <td>NaN</td>\n",
       "      <td>13.0</td>\n",
       "      <td>BACHELOR</td>\n",
       "      <td>NaN</td>\n",
       "      <td>HIGH SCHOOL</td>\n",
       "      <td>NaN</td>\n",
       "      <td>NaN</td>\n",
       "      <td>NaN</td>\n",
       "      <td>NaN</td>\n",
       "      <td>NaN</td>\n",
       "      <td>MALE</td>\n",
       "      <td>WHITE</td>\n",
       "      <td>COUNTRY,NONFARM</td>\n",
       "      <td>W. SOU. CENTRAL</td>\n",
       "      <td>MOTHER</td>\n",
       "      <td>YES</td>\n",
       "      <td>NaN</td>\n",
       "      <td>YES</td>\n",
       "      <td>BOTH IN U.S</td>\n",
       "      <td>NaN</td>\n",
       "      <td>LIBERAL</td>\n",
       "      <td>75000</td>\n",
       "    </tr>\n",
       "  </tbody>\n",
       "</table>\n",
       "</div>"
      ],
      "text/plain": [
       "                                               OCC10  SIBS   AGE  EDUC  \\\n",
       "0  Broadcast and sound engineering technicians an...   1.0  26.0  16.0   \n",
       "1                Advertising and promotions managers   6.0  44.0  14.0   \n",
       "2  First-line supervisors of office and administr...   0.0  44.0  18.0   \n",
       "3                                        Dispatchers   8.0  40.0  16.0   \n",
       "4  Software developers, applications and systems ...   7.0  37.0  16.0   \n",
       "\n",
       "   PAEDUC  MAEDUC          DEGREE           PADEG           MADEG MAJOR1  \\\n",
       "0    16.0    16.0        BACHELOR        BACHELOR        GRADUATE    NaN   \n",
       "1    12.0    12.0  JUNIOR COLLEGE     HIGH SCHOOL     HIGH SCHOOL    NaN   \n",
       "2    11.0    11.0        GRADUATE     HIGH SCHOOL     HIGH SCHOOL    NaN   \n",
       "3    10.0    10.0     HIGH SCHOOL  LT HIGH SCHOOL  LT HIGH SCHOOL    NaN   \n",
       "4     NaN    13.0        BACHELOR             NaN     HIGH SCHOOL    NaN   \n",
       "\n",
       "  MAJOR2 DIPGED SECTOR BARATE     SEX   RACE            RES16  \\\n",
       "0    NaN    NaN    NaN    NaN    MALE  WHITE   CITY GT 250000   \n",
       "1    NaN    NaN    NaN    NaN  FEMALE  WHITE  BIG-CITY SUBURB   \n",
       "2    NaN    NaN    NaN    NaN    MALE  WHITE    TOWN LT 50000   \n",
       "3    NaN    NaN    NaN    NaN    MALE  BLACK    TOWN LT 50000   \n",
       "4    NaN    NaN    NaN    NaN    MALE  WHITE  COUNTRY,NONFARM   \n",
       "\n",
       "             REG16         FAMILY16 MAWRKGRW INCOM16 BORN      PARBORN  \\\n",
       "0  W. SOU. CENTRAL  MOTHER & FATHER      YES     NaN  YES  BOTH IN U.S   \n",
       "1  E. NOR. CENTRAL  MOTHER & FATHER      YES     NaN  YES  BOTH IN U.S   \n",
       "2  W. SOU. CENTRAL  MOTHER & FATHER      YES     NaN  YES  BOTH IN U.S   \n",
       "3  W. SOU. CENTRAL  MOTHER & FATHER      YES     NaN  YES  BOTH IN U.S   \n",
       "4  W. SOU. CENTRAL           MOTHER      YES     NaN  YES  BOTH IN U.S   \n",
       "\n",
       "     GRANBORN              POLVIEWS  INCOME  \n",
       "0         1.0  SLGHTLY CONSERVATIVE    8000  \n",
       "1         1.0               LIBERAL    7000  \n",
       "2  ALL IN U.S      SLIGHTLY LIBERAL   50000  \n",
       "3  ALL IN U.S              MODERATE   25000  \n",
       "4         NaN               LIBERAL   75000  "
      ]
     },
     "execution_count": 16,
     "metadata": {},
     "output_type": "execute_result"
    }
   ],
   "source": [
    "df.head()"
   ]
  },
  {
   "cell_type": "code",
   "execution_count": 17,
   "metadata": {},
   "outputs": [
    {
     "data": {
      "text/plain": [
       "0"
      ]
     },
     "execution_count": 17,
     "metadata": {},
     "output_type": "execute_result"
    }
   ],
   "source": [
    "df.INCOME.isnull().sum()"
   ]
  },
  {
   "cell_type": "code",
   "execution_count": 18,
   "metadata": {},
   "outputs": [],
   "source": [
    "correlations = df.corr()"
   ]
  },
  {
   "cell_type": "code",
   "execution_count": 19,
   "metadata": {},
   "outputs": [
    {
     "data": {
      "text/plain": [
       "<matplotlib.axes._subplots.AxesSubplot at 0x2099c05afd0>"
      ]
     },
     "execution_count": 19,
     "metadata": {},
     "output_type": "execute_result"
    },
    {
     "data": {
      "image/png": "[encoded data removed]",
      "text/plain": [
       "<Figure size 720x720 with 2 Axes>"
      ]
     },
     "metadata": {
      "needs_background": "light"
     },
     "output_type": "display_data"
    }
   ],
   "source": [
    "plt.figure(figsize=(10,10))\n",
    "sns.heatmap(correlations, annot=True)"
   ]
  },
  {
   "cell_type": "markdown",
   "metadata": {},
   "source": [
    "### Comparisons to Income\n",
    "\n",
    "#### DEGREE"
   ]
  },
  {
   "cell_type": "code",
   "execution_count": 20,
   "metadata": {
    "scrolled": true
   },
   "outputs": [
    {
     "data": {
      "text/plain": [
       "<seaborn.axisgrid.FacetGrid at 0x2099b396af0>"
      ]
     },
     "execution_count": 20,
     "metadata": {},
     "output_type": "execute_result"
    },
    {
     "data": {
      "image/png": "[encoded data removed]",
      "text/plain": [
       "<Figure size 1080x360 with 1 Axes>"
      ]
     },
     "metadata": {
      "needs_background": "light"
     },
     "output_type": "display_data"
    }
   ],
   "source": [
    "sns.catplot(x=\"DEGREE\", y=\"INCOME\", kind=\"box\", data=df, height=5, aspect=15/5)"
   ]
  },
  {
   "cell_type": "markdown",
   "metadata": {},
   "source": [
    "#### FATHER'S DEGREE"
   ]
  },
  {
   "cell_type": "code",
   "execution_count": 21,
   "metadata": {
    "scrolled": true
   },
   "outputs": [
    {
     "data": {
      "text/plain": [
       "<seaborn.axisgrid.FacetGrid at 0x2099d791dc0>"
      ]
     },
     "execution_count": 21,
     "metadata": {},
     "output_type": "execute_result"
    },
    {
     "data": {
      "image/png": "[encoded data removed]",
      "text/plain": [
       "<Figure size 1080x360 with 1 Axes>"
      ]
     },
     "metadata": {
      "needs_background": "light"
     },
     "output_type": "display_data"
    }
   ],
   "source": [
    "sns.catplot(x=\"PADEG\", y=\"INCOME\", kind=\"box\", data=df, height=5, aspect=15/5)"
   ]
  },
  {
   "cell_type": "markdown",
   "metadata": {},
   "source": [
    "#### MOTHER'S DEGREE"
   ]
  },
  {
   "cell_type": "code",
   "execution_count": 22,
   "metadata": {
    "scrolled": true
   },
   "outputs": [
    {
     "data": {
      "text/plain": [
       "<seaborn.axisgrid.FacetGrid at 0x2099db06370>"
      ]
     },
     "execution_count": 22,
     "metadata": {},
     "output_type": "execute_result"
    },
    {
     "data": {
      "image/png": "[encoded data removed]",
      "text/plain": [
       "<Figure size 1080x360 with 1 Axes>"
      ]
     },
     "metadata": {
      "needs_background": "light"
     },
     "output_type": "display_data"
    }
   ],
   "source": [
    "sns.catplot(x=\"MADEG\", y=\"INCOME\", kind=\"box\", data=df, height=5, aspect=15/5)"
   ]
  },
  {
   "cell_type": "markdown",
   "metadata": {},
   "source": [
    "#### SEX"
   ]
  },
  {
   "cell_type": "code",
   "execution_count": 23,
   "metadata": {},
   "outputs": [
    {
     "data": {
      "text/plain": [
       "<seaborn.axisgrid.FacetGrid at 0x2099c0c1340>"
      ]
     },
     "execution_count": 23,
     "metadata": {},
     "output_type": "execute_result"
    },
    {
     "data": {
      "image/png": "[encoded data removed]",
      "text/plain": [
       "<Figure size 1080x360 with 1 Axes>"
      ]
     },
     "metadata": {
      "needs_background": "light"
     },
     "output_type": "display_data"
    }
   ],
   "source": [
    "sns.catplot(x=\"SEX\", y=\"INCOME\", kind=\"box\", data=df, height=5, aspect=15/5)"
   ]
  },
  {
   "cell_type": "markdown",
   "metadata": {},
   "source": [
    "#### RACE"
   ]
  },
  {
   "cell_type": "code",
   "execution_count": 24,
   "metadata": {
    "scrolled": true
   },
   "outputs": [
    {
     "data": {
      "text/plain": [
       "<seaborn.axisgrid.FacetGrid at 0x2099c0b70d0>"
      ]
     },
     "execution_count": 24,
     "metadata": {},
     "output_type": "execute_result"
    },
    {
     "data": {
      "image/png": "[encoded data removed]",
      "text/plain": [
       "<Figure size 1080x360 with 1 Axes>"
      ]
     },
     "metadata": {
      "needs_background": "light"
     },
     "output_type": "display_data"
    }
   ],
   "source": [
    "sns.catplot(x=\"RACE\", y=\"INCOME\", kind=\"box\", data=df, height=5, aspect=15/5)"
   ]
  },
  {
   "cell_type": "markdown",
   "metadata": {},
   "source": [
    "#### TYPE OF DIPLOMA"
   ]
  },
  {
   "cell_type": "code",
   "execution_count": 25,
   "metadata": {
    "scrolled": true
   },
   "outputs": [
    {
     "data": {
      "text/plain": [
       "<seaborn.axisgrid.FacetGrid at 0x2099e6315b0>"
      ]
     },
     "execution_count": 25,
     "metadata": {},
     "output_type": "execute_result"
    },
    {
     "data": {
      "image/png": "[encoded data removed]",
      "text/plain": [
       "<Figure size 1080x360 with 1 Axes>"
      ]
     },
     "metadata": {
      "needs_background": "light"
     },
     "output_type": "display_data"
    }
   ],
   "source": [
    "sns.catplot(x=\"DIPGED\", y=\"INCOME\", kind=\"box\", data=df, height=5, aspect=15/5)"
   ]
  },
  {
   "cell_type": "markdown",
   "metadata": {},
   "source": [
    "#### SECTOR"
   ]
  },
  {
   "cell_type": "code",
   "execution_count": 26,
   "metadata": {
    "scrolled": true
   },
   "outputs": [
    {
     "data": {
      "text/plain": [
       "<seaborn.axisgrid.FacetGrid at 0x2099c022ee0>"
      ]
     },
     "execution_count": 26,
     "metadata": {},
     "output_type": "execute_result"
    },
    {
     "data": {
      "image/png": "[encoded data removed]",
      "text/plain": [
       "<Figure size 1080x360 with 1 Axes>"
      ]
     },
     "metadata": {
      "needs_background": "light"
     },
     "output_type": "display_data"
    }
   ],
   "source": [
    "sns.catplot(x=\"SECTOR\", y=\"INCOME\", kind=\"box\", data=df, height=5, aspect=15/5)"
   ]
  },
  {
   "cell_type": "markdown",
   "metadata": {},
   "source": [
    "#### GUARDIAN AT AGE 16"
   ]
  },
  {
   "cell_type": "code",
   "execution_count": 27,
   "metadata": {
    "scrolled": true
   },
   "outputs": [
    {
     "data": {
      "text/plain": [
       "<seaborn.axisgrid.FacetGrid at 0x2099eb01760>"
      ]
     },
     "execution_count": 27,
     "metadata": {},
     "output_type": "execute_result"
    },
    {
     "data": {
      "image/png": "[encoded data removed]",
      "text/plain": [
       "<Figure size 1080x360 with 1 Axes>"
      ]
     },
     "metadata": {
      "needs_background": "light"
     },
     "output_type": "display_data"
    }
   ],
   "source": [
    "sns.catplot(x=\"FAMILY16\", y=\"INCOME\", kind=\"box\", data=df, height=5, aspect=15/5)"
   ]
  },
  {
   "cell_type": "markdown",
   "metadata": {},
   "source": [
    "#### BORN IN THE US"
   ]
  },
  {
   "cell_type": "code",
   "execution_count": 28,
   "metadata": {
    "scrolled": true
   },
   "outputs": [
    {
     "data": {
      "text/plain": [
       "<seaborn.axisgrid.FacetGrid at 0x2099ef4bf10>"
      ]
     },
     "execution_count": 28,
     "metadata": {},
     "output_type": "execute_result"
    },
    {
     "data": {
      "image/png": "[encoded data removed]",
      "text/plain": [
       "<Figure size 1080x360 with 1 Axes>"
      ]
     },
     "metadata": {
      "needs_background": "light"
     },
     "output_type": "display_data"
    }
   ],
   "source": [
    "sns.catplot(x=\"BORN\", y=\"INCOME\", kind=\"box\", data=df, height=5, aspect=15/5)"
   ]
  },
  {
   "cell_type": "markdown",
   "metadata": {},
   "source": [
    "#### PARENTS' BORN IN THE US"
   ]
  },
  {
   "cell_type": "code",
   "execution_count": 29,
   "metadata": {
    "scrolled": true
   },
   "outputs": [
    {
     "data": {
      "text/plain": [
       "<seaborn.axisgrid.FacetGrid at 0x2099f297ca0>"
      ]
     },
     "execution_count": 29,
     "metadata": {},
     "output_type": "execute_result"
    },
    {
     "data": {
      "image/png": "[encoded data removed]",
      "text/plain": [
       "<Figure size 1080x360 with 1 Axes>"
      ]
     },
     "metadata": {
      "needs_background": "light"
     },
     "output_type": "display_data"
    }
   ],
   "source": [
    "sns.catplot(x=\"PARBORN\", y=\"INCOME\", kind=\"box\", data=df, height=5, aspect=15/5)"
   ]
  },
  {
   "cell_type": "markdown",
   "metadata": {},
   "source": [
    "#### GRANDPARENTS' BORN IN THE US"
   ]
  },
  {
   "cell_type": "code",
   "execution_count": 30,
   "metadata": {
    "scrolled": true
   },
   "outputs": [
    {
     "data": {
      "text/plain": [
       "<seaborn.axisgrid.FacetGrid at 0x2099dee0550>"
      ]
     },
     "execution_count": 30,
     "metadata": {},
     "output_type": "execute_result"
    },
    {
     "data": {
      "image/png": "[encoded data removed]",
      "text/plain": [
       "<Figure size 1080x360 with 1 Axes>"
      ]
     },
     "metadata": {
      "needs_background": "light"
     },
     "output_type": "display_data"
    }
   ],
   "source": [
    "sns.catplot(x=\"GRANBORN\", y=\"INCOME\", kind=\"box\", data=df, height=5, aspect=15/5)"
   ]
  },
  {
   "cell_type": "markdown",
   "metadata": {},
   "source": [
    "#### POLITCAL VIEWS"
   ]
  },
  {
   "cell_type": "code",
   "execution_count": 31,
   "metadata": {},
   "outputs": [
    {
     "data": {
      "text/plain": [
       "<seaborn.axisgrid.FacetGrid at 0x2099f88ea30>"
      ]
     },
     "execution_count": 31,
     "metadata": {},
     "output_type": "execute_result"
    },
    {
     "data": {
      "image/png": "[encoded data removed]",
      "text/plain": [
       "<Figure size 1080x360 with 1 Axes>"
      ]
     },
     "metadata": {
      "needs_background": "light"
     },
     "output_type": "display_data"
    }
   ],
   "source": [
    "sns.catplot(x=\"POLVIEWS\", y=\"INCOME\", kind=\"box\", data=df, height=5, aspect=15/5)"
   ]
  },
  {
   "cell_type": "code",
   "execution_count": 32,
   "metadata": {},
   "outputs": [],
   "source": [
    "columns_of_interest = ['SIBS','DEGREE','PADEG', 'MADEG','MAJOR1','SEX','DIPGED','FAMILY16','PARBORN','GRANBORN', 'POLVIEWS','INCOME']"
   ]
  },
  {
   "cell_type": "markdown",
   "metadata": {},
   "source": [
    "### Feature Engineering"
   ]
  },
  {
   "cell_type": "code",
   "execution_count": 33,
   "metadata": {},
   "outputs": [
    {
     "data": {
      "text/plain": [
       "SIBS         207\n",
       "DEGREE         0\n",
       "PADEG        762\n",
       "MADEG        350\n",
       "MAJOR1      2492\n",
       "SEX            0\n",
       "DIPGED      2438\n",
       "FAMILY16     202\n",
       "PARBORN      203\n",
       "GRANBORN     301\n",
       "POLVIEWS     465\n",
       "INCOME         0\n",
       "dtype: int64"
      ]
     },
     "execution_count": 33,
     "metadata": {},
     "output_type": "execute_result"
    }
   ],
   "source": [
    "df[columns_of_interest].isnull().sum()"
   ]
  },
  {
   "cell_type": "code",
   "execution_count": 34,
   "metadata": {},
   "outputs": [],
   "source": [
    "df['SIBS'].fillna(df['SIBS'].mode()[0], inplace=True)\n",
    "df['PADEG'].fillna(df['PADEG'].mode()[0], inplace=True)\n",
    "df['MADEG'].fillna(df['MADEG'].mode()[0], inplace=True)\n",
    "df['FAMILY16'].fillna(df['FAMILY16'].mode()[0], inplace=True)\n",
    "df['PARBORN'].fillna(df['PARBORN'].mode()[0], inplace=True)\n",
    "df['GRANBORN'].fillna(df['GRANBORN'].mode()[0], inplace=True)\n",
    "df['POLVIEWS'].fillna(df['POLVIEWS'].mode()[0], inplace=True)"
   ]
  },
  {
   "cell_type": "code",
   "execution_count": 35,
   "metadata": {},
   "outputs": [
    {
     "data": {
      "text/plain": [
       "SIBS           0\n",
       "DEGREE         0\n",
       "PADEG          0\n",
       "MADEG          0\n",
       "MAJOR1      2492\n",
       "SEX            0\n",
       "DIPGED      2438\n",
       "FAMILY16       0\n",
       "PARBORN        0\n",
       "GRANBORN       0\n",
       "POLVIEWS       0\n",
       "INCOME         0\n",
       "dtype: int64"
      ]
     },
     "execution_count": 35,
     "metadata": {},
     "output_type": "execute_result"
    }
   ],
   "source": [
    "df[columns_of_interest].isnull().sum()"
   ]
  },
  {
   "cell_type": "code",
   "execution_count": 36,
   "metadata": {},
   "outputs": [],
   "source": [
    "df[\"SIBS_log\"]= np.log(df[\"SIBS\"] + 1)"
   ]
  },
  {
   "cell_type": "code",
   "execution_count": 37,
   "metadata": {
    "scrolled": true
   },
   "outputs": [
    {
     "data": {
      "text/plain": [
       "<matplotlib.axes._subplots.AxesSubplot at 0x2099fe283d0>"
      ]
     },
     "execution_count": 37,
     "metadata": {},
     "output_type": "execute_result"
    },
    {
     "data": {
      "image/png": "[encoded data removed]",
      "text/plain": [
       "<Figure size 432x288 with 1 Axes>"
      ]
     },
     "metadata": {
      "needs_background": "light"
     },
     "output_type": "display_data"
    }
   ],
   "source": [
    "sns.distplot(df[\"SIBS_log\"])"
   ]
  },
  {
   "cell_type": "code",
   "execution_count": 38,
   "metadata": {},
   "outputs": [],
   "source": [
    "df = df[df['DEGREE'] != 'HIGH SCHOOL']"
   ]
  },
  {
   "cell_type": "code",
   "execution_count": 39,
   "metadata": {},
   "outputs": [
    {
     "data": {
      "text/plain": [
       "array(['BACHELOR', 'JUNIOR COLLEGE', 'GRADUATE'], dtype=object)"
      ]
     },
     "execution_count": 39,
     "metadata": {},
     "output_type": "execute_result"
    }
   ],
   "source": [
    "df.DEGREE.unique()"
   ]
  },
  {
   "cell_type": "code",
   "execution_count": 40,
   "metadata": {},
   "outputs": [],
   "source": [
    "columns_of_interest = ['SIBS_log','DEGREE','PADEG', 'MADEG','MAJOR1','SEX','DIPGED','FAMILY16','PARBORN','GRANBORN', 'POLVIEWS', 'INCOME']"
   ]
  },
  {
   "cell_type": "code",
   "execution_count": 41,
   "metadata": {
    "scrolled": true
   },
   "outputs": [
    {
     "data": {
      "text/plain": [
       "SIBS_log       0\n",
       "DEGREE         0\n",
       "PADEG          0\n",
       "MADEG          0\n",
       "MAJOR1      2329\n",
       "SEX            0\n",
       "DIPGED      2328\n",
       "FAMILY16       0\n",
       "PARBORN        0\n",
       "GRANBORN       0\n",
       "POLVIEWS       0\n",
       "INCOME         0\n",
       "dtype: int64"
      ]
     },
     "execution_count": 41,
     "metadata": {},
     "output_type": "execute_result"
    }
   ],
   "source": [
    "df[columns_of_interest].isnull().sum()"
   ]
  },
  {
   "cell_type": "code",
   "execution_count": 42,
   "metadata": {},
   "outputs": [],
   "source": [
    "dat = df[columns_of_interest]"
   ]
  },
  {
   "cell_type": "code",
   "execution_count": 43,
   "metadata": {},
   "outputs": [],
   "source": [
    "dat['SEX'].loc[df['SEX']=='FEMALE'] = 0\n",
    "dat['SEX'].loc[df['SEX']=='MALE'] = 1\n",
    "dat['SEX']=dat['SEX'].astype(int)"
   ]
  },
  {
   "cell_type": "code",
   "execution_count": 44,
   "metadata": {},
   "outputs": [],
   "source": [
    "dat['DEGREE'].loc[df['DEGREE']=='JUNIOR COLLEGE'] = 0\n",
    "dat['DEGREE'].loc[df['DEGREE']=='BACHELOR'] = 1\n",
    "dat['DEGREE'].loc[df['DEGREE']=='GRADUATE'] = 2\n",
    "dat['DEGREE']=dat['DEGREE'].astype(int)"
   ]
  },
  {
   "cell_type": "code",
   "execution_count": 45,
   "metadata": {},
   "outputs": [],
   "source": [
    "dat['PADEG'].loc[df['PADEG']=='LT HIGH SCHOOL']=0\n",
    "dat['PADEG'].loc[df['PADEG']=='HIGH SCHOOL']=1\n",
    "dat['PADEG'].loc[df['PADEG']=='JUNIOR COLLEGE'] = 2\n",
    "dat['PADEG'].loc[df['PADEG']=='BACHELOR'] = 3\n",
    "dat['PADEG'].loc[df['PADEG']=='GRADUATE'] = 4\n",
    "dat['PADEG']=dat['PADEG'].astype(int)"
   ]
  },
  {
   "cell_type": "code",
   "execution_count": 46,
   "metadata": {},
   "outputs": [],
   "source": [
    "dat['MADEG'].loc[df['MADEG']=='LT HIGH SCHOOL']=0\n",
    "dat['MADEG'].loc[df['MADEG']=='HIGH SCHOOL']=1\n",
    "dat['MADEG'].loc[df['MADEG']=='JUNIOR COLLEGE'] = 2\n",
    "dat['MADEG'].loc[df['MADEG']=='BACHELOR'] = 3\n",
    "dat['MADEG'].loc[df['MADEG']=='GRADUATE'] = 4\n",
    "dat['MADEG']=dat['MADEG'].astype(int)"
   ]
  },
  {
   "cell_type": "code",
   "execution_count": 47,
   "metadata": {},
   "outputs": [],
   "source": [
    "dat[\"MAJOR1\"] = dat[\"MAJOR1\"].astype('category')\n",
    "dat[\"FAMILY16\"] = dat[\"FAMILY16\"].astype('category')\n",
    "dat[\"PARBORN\"] = dat[\"PARBORN\"].astype('category')\n",
    "dat[\"POLVIEWS\"] = dat[\"POLVIEWS\"].astype('category')\n",
    "\n",
    "dat['MAJOR1_cat']=dat['MAJOR1'].cat.codes\n",
    "dat['FAMILY16_cat'] = dat[\"FAMILY16\"].cat.codes\n",
    "dat['PARBORN_cat'] = dat[\"PARBORN\"].cat.codes\n",
    "dat['POLVIEWS_cat'] = dat[\"POLVIEWS\"].cat.codes"
   ]
  },
  {
   "cell_type": "code",
   "execution_count": 48,
   "metadata": {},
   "outputs": [],
   "source": [
    "dat[\"GRANBORN\"].loc[dat[\"GRANBORN\"]=='ALL IN U.S'] = '5'\n",
    "dat[\"GRANBORN\"]=dat[\"GRANBORN\"].astype(float)"
   ]
  },
  {
   "cell_type": "code",
   "execution_count": 49,
   "metadata": {},
   "outputs": [
    {
     "data": {
      "text/plain": [
       "SIBS_log         float64\n",
       "DEGREE             int32\n",
       "PADEG              int32\n",
       "MADEG              int32\n",
       "MAJOR1          category\n",
       "SEX                int32\n",
       "DIPGED            object\n",
       "FAMILY16        category\n",
       "PARBORN         category\n",
       "GRANBORN         float64\n",
       "POLVIEWS        category\n",
       "INCOME             int64\n",
       "MAJOR1_cat          int8\n",
       "FAMILY16_cat        int8\n",
       "PARBORN_cat         int8\n",
       "POLVIEWS_cat        int8\n",
       "dtype: object"
      ]
     },
     "execution_count": 49,
     "metadata": {},
     "output_type": "execute_result"
    }
   ],
   "source": [
    "dat.dtypes"
   ]
  },
  {
   "cell_type": "code",
   "execution_count": 50,
   "metadata": {},
   "outputs": [
    {
     "data": {
      "text/plain": [
       "array([-1, 65, 48, 39, 25, 63,  9, 28, 55, 22, 49,  6, 47,  1, 10, 23, 69,\n",
       "       13, 62, 41, 14, 15, 67, 17, 50, 21, 56,  0, 53, 11, 42, 71, 40, 33,\n",
       "       58, 29, 12, 60, 32, 77, 57,  2, 34, 46, 43, 27, 45, 64, 26,  7, 66,\n",
       "       35, 51, 72, 61, 52, 75, 20, 73, 37, 74, 24,  5, 44, 18,  3, 54,  4,\n",
       "       76, 36, 31, 59, 19, 70, 16, 30, 68,  8, 38], dtype=int8)"
      ]
     },
     "execution_count": 50,
     "metadata": {},
     "output_type": "execute_result"
    }
   ],
   "source": [
    "dat.MAJOR1_cat.unique()"
   ]
  },
  {
   "cell_type": "code",
   "execution_count": 51,
   "metadata": {},
   "outputs": [
    {
     "data": {
      "text/plain": [
       "MAJOR1_cat\n",
       "-1     2329\n",
       " 0       35\n",
       " 1        2\n",
       " 2        7\n",
       " 3        1\n",
       " 4        3\n",
       " 5        6\n",
       " 6       10\n",
       " 7        9\n",
       " 8        3\n",
       " 9       37\n",
       " 10     178\n",
       " 11       6\n",
       " 12       5\n",
       " 13      39\n",
       " 14      34\n",
       " 15       8\n",
       " 16       3\n",
       " 17      35\n",
       " 18       4\n",
       " 19       2\n",
       " 20      17\n",
       " 21     103\n",
       " 22      72\n",
       " 23      22\n",
       " 24       6\n",
       " 25      10\n",
       " 26      13\n",
       " 27       2\n",
       " 28      19\n",
       " 29       6\n",
       " 30       1\n",
       " 31       1\n",
       " 32       6\n",
       " 33      16\n",
       " 34      24\n",
       " 35      10\n",
       " 36       2\n",
       " 37       4\n",
       " 38       1\n",
       " 39      46\n",
       " 40      21\n",
       " 41       9\n",
       " 42       4\n",
       " 43       1\n",
       " 44      11\n",
       " 45       5\n",
       " 46      21\n",
       " 47       6\n",
       " 48      18\n",
       " 49       5\n",
       " 50      21\n",
       " 51      11\n",
       " 52      20\n",
       " 53       8\n",
       " 54       1\n",
       " 55      60\n",
       " 56      28\n",
       " 57       9\n",
       " 58       5\n",
       " 59       3\n",
       " 60      13\n",
       " 61       5\n",
       " 62      30\n",
       " 63      52\n",
       " 64       3\n",
       " 65       3\n",
       " 66      18\n",
       " 67      19\n",
       " 68       2\n",
       " 69       3\n",
       " 70       3\n",
       " 71       8\n",
       " 72       3\n",
       " 73       9\n",
       " 74       1\n",
       " 75       2\n",
       " 76       3\n",
       " 77      17\n",
       "dtype: int64"
      ]
     },
     "execution_count": 51,
     "metadata": {},
     "output_type": "execute_result"
    }
   ],
   "source": [
    "dat.groupby(['MAJOR1_cat']).size()"
   ]
  },
  {
   "cell_type": "code",
   "execution_count": 52,
   "metadata": {},
   "outputs": [],
   "source": [
    "#Missing value of major1 was recoded into -1"
   ]
  },
  {
   "cell_type": "code",
   "execution_count": 53,
   "metadata": {},
   "outputs": [],
   "source": [
    "columns_in_use = ['SIBS_log','DEGREE','PADEG', 'MADEG','SEX','FAMILY16_cat','PARBORN_cat','GRANBORN', 'POLVIEWS_cat', 'INCOME','MAJOR1_cat']"
   ]
  },
  {
   "cell_type": "code",
   "execution_count": 54,
   "metadata": {},
   "outputs": [
    {
     "data": {
      "text/plain": [
       "SIBS_log        0\n",
       "DEGREE          0\n",
       "PADEG           0\n",
       "MADEG           0\n",
       "SEX             0\n",
       "FAMILY16_cat    0\n",
       "PARBORN_cat     0\n",
       "GRANBORN        0\n",
       "POLVIEWS_cat    0\n",
       "INCOME          0\n",
       "MAJOR1_cat      0\n",
       "dtype: int64"
      ]
     },
     "execution_count": 54,
     "metadata": {},
     "output_type": "execute_result"
    }
   ],
   "source": [
    "dat[columns_in_use].isnull().sum()"
   ]
  },
  {
   "cell_type": "code",
   "execution_count": 55,
   "metadata": {},
   "outputs": [],
   "source": [
    "dfm= dat[columns_in_use].loc[dat['MAJOR1_cat'] != -1]"
   ]
  },
  {
   "cell_type": "code",
   "execution_count": 56,
   "metadata": {},
   "outputs": [
    {
     "data": {
      "text/html": [
       "<div>\n",
       "<style scoped>\n",
       "    .dataframe tbody tr th:only-of-type {\n",
       "        vertical-align: middle;\n",
       "    }\n",
       "\n",
       "    .dataframe tbody tr th {\n",
       "        vertical-align: top;\n",
       "    }\n",
       "\n",
       "    .dataframe thead th {\n",
       "        text-align: right;\n",
       "    }\n",
       "</style>\n",
       "<table border=\"1\" class=\"dataframe\">\n",
       "  <thead>\n",
       "    <tr style=\"text-align: right;\">\n",
       "      <th></th>\n",
       "      <th>SIBS_log</th>\n",
       "      <th>DEGREE</th>\n",
       "      <th>PADEG</th>\n",
       "      <th>MADEG</th>\n",
       "      <th>SEX</th>\n",
       "      <th>FAMILY16_cat</th>\n",
       "      <th>PARBORN_cat</th>\n",
       "      <th>GRANBORN</th>\n",
       "      <th>POLVIEWS_cat</th>\n",
       "      <th>INCOME</th>\n",
       "      <th>MAJOR1_cat</th>\n",
       "    </tr>\n",
       "  </thead>\n",
       "  <tbody>\n",
       "    <tr>\n",
       "      <th>2435</th>\n",
       "      <td>0.000000</td>\n",
       "      <td>1</td>\n",
       "      <td>2</td>\n",
       "      <td>1</td>\n",
       "      <td>0</td>\n",
       "      <td>6</td>\n",
       "      <td>0</td>\n",
       "      <td>5.0</td>\n",
       "      <td>3</td>\n",
       "      <td>30000</td>\n",
       "      <td>65</td>\n",
       "    </tr>\n",
       "    <tr>\n",
       "      <th>2436</th>\n",
       "      <td>1.098612</td>\n",
       "      <td>1</td>\n",
       "      <td>1</td>\n",
       "      <td>1</td>\n",
       "      <td>0</td>\n",
       "      <td>5</td>\n",
       "      <td>0</td>\n",
       "      <td>5.0</td>\n",
       "      <td>3</td>\n",
       "      <td>6000</td>\n",
       "      <td>48</td>\n",
       "    </tr>\n",
       "    <tr>\n",
       "      <th>2437</th>\n",
       "      <td>1.386294</td>\n",
       "      <td>0</td>\n",
       "      <td>1</td>\n",
       "      <td>1</td>\n",
       "      <td>0</td>\n",
       "      <td>0</td>\n",
       "      <td>5</td>\n",
       "      <td>4.0</td>\n",
       "      <td>3</td>\n",
       "      <td>90000</td>\n",
       "      <td>39</td>\n",
       "    </tr>\n",
       "    <tr>\n",
       "      <th>2438</th>\n",
       "      <td>1.609438</td>\n",
       "      <td>1</td>\n",
       "      <td>4</td>\n",
       "      <td>4</td>\n",
       "      <td>1</td>\n",
       "      <td>6</td>\n",
       "      <td>5</td>\n",
       "      <td>4.0</td>\n",
       "      <td>6</td>\n",
       "      <td>60000</td>\n",
       "      <td>25</td>\n",
       "    </tr>\n",
       "    <tr>\n",
       "      <th>2439</th>\n",
       "      <td>1.098612</td>\n",
       "      <td>1</td>\n",
       "      <td>1</td>\n",
       "      <td>3</td>\n",
       "      <td>0</td>\n",
       "      <td>5</td>\n",
       "      <td>2</td>\n",
       "      <td>2.0</td>\n",
       "      <td>3</td>\n",
       "      <td>30000</td>\n",
       "      <td>63</td>\n",
       "    </tr>\n",
       "    <tr>\n",
       "      <th>...</th>\n",
       "      <td>...</td>\n",
       "      <td>...</td>\n",
       "      <td>...</td>\n",
       "      <td>...</td>\n",
       "      <td>...</td>\n",
       "      <td>...</td>\n",
       "      <td>...</td>\n",
       "      <td>...</td>\n",
       "      <td>...</td>\n",
       "      <td>...</td>\n",
       "      <td>...</td>\n",
       "    </tr>\n",
       "    <tr>\n",
       "      <th>3758</th>\n",
       "      <td>0.000000</td>\n",
       "      <td>0</td>\n",
       "      <td>0</td>\n",
       "      <td>0</td>\n",
       "      <td>0</td>\n",
       "      <td>6</td>\n",
       "      <td>0</td>\n",
       "      <td>5.0</td>\n",
       "      <td>3</td>\n",
       "      <td>40000</td>\n",
       "      <td>10</td>\n",
       "    </tr>\n",
       "    <tr>\n",
       "      <th>3759</th>\n",
       "      <td>1.098612</td>\n",
       "      <td>0</td>\n",
       "      <td>1</td>\n",
       "      <td>1</td>\n",
       "      <td>0</td>\n",
       "      <td>6</td>\n",
       "      <td>0</td>\n",
       "      <td>5.0</td>\n",
       "      <td>0</td>\n",
       "      <td>40000</td>\n",
       "      <td>39</td>\n",
       "    </tr>\n",
       "    <tr>\n",
       "      <th>3760</th>\n",
       "      <td>1.098612</td>\n",
       "      <td>2</td>\n",
       "      <td>3</td>\n",
       "      <td>2</td>\n",
       "      <td>0</td>\n",
       "      <td>6</td>\n",
       "      <td>0</td>\n",
       "      <td>2.0</td>\n",
       "      <td>1</td>\n",
       "      <td>50000</td>\n",
       "      <td>22</td>\n",
       "    </tr>\n",
       "    <tr>\n",
       "      <th>3761</th>\n",
       "      <td>0.693147</td>\n",
       "      <td>0</td>\n",
       "      <td>1</td>\n",
       "      <td>1</td>\n",
       "      <td>0</td>\n",
       "      <td>6</td>\n",
       "      <td>0</td>\n",
       "      <td>5.0</td>\n",
       "      <td>0</td>\n",
       "      <td>60000</td>\n",
       "      <td>44</td>\n",
       "    </tr>\n",
       "    <tr>\n",
       "      <th>3762</th>\n",
       "      <td>0.693147</td>\n",
       "      <td>1</td>\n",
       "      <td>2</td>\n",
       "      <td>2</td>\n",
       "      <td>0</td>\n",
       "      <td>6</td>\n",
       "      <td>0</td>\n",
       "      <td>5.0</td>\n",
       "      <td>4</td>\n",
       "      <td>8000</td>\n",
       "      <td>56</td>\n",
       "    </tr>\n",
       "  </tbody>\n",
       "</table>\n",
       "<p>1269 rows × 11 columns</p>\n",
       "</div>"
      ],
      "text/plain": [
       "      SIBS_log  DEGREE  PADEG  MADEG  SEX  FAMILY16_cat  PARBORN_cat  \\\n",
       "2435  0.000000       1      2      1    0             6            0   \n",
       "2436  1.098612       1      1      1    0             5            0   \n",
       "2437  1.386294       0      1      1    0             0            5   \n",
       "2438  1.609438       1      4      4    1             6            5   \n",
       "2439  1.098612       1      1      3    0             5            2   \n",
       "...        ...     ...    ...    ...  ...           ...          ...   \n",
       "3758  0.000000       0      0      0    0             6            0   \n",
       "3759  1.098612       0      1      1    0             6            0   \n",
       "3760  1.098612       2      3      2    0             6            0   \n",
       "3761  0.693147       0      1      1    0             6            0   \n",
       "3762  0.693147       1      2      2    0             6            0   \n",
       "\n",
       "      GRANBORN  POLVIEWS_cat  INCOME  MAJOR1_cat  \n",
       "2435       5.0             3   30000          65  \n",
       "2436       5.0             3    6000          48  \n",
       "2437       4.0             3   90000          39  \n",
       "2438       4.0             6   60000          25  \n",
       "2439       2.0             3   30000          63  \n",
       "...        ...           ...     ...         ...  \n",
       "3758       5.0             3   40000          10  \n",
       "3759       5.0             0   40000          39  \n",
       "3760       2.0             1   50000          22  \n",
       "3761       5.0             0   60000          44  \n",
       "3762       5.0             4    8000          56  \n",
       "\n",
       "[1269 rows x 11 columns]"
      ]
     },
     "execution_count": 56,
     "metadata": {},
     "output_type": "execute_result"
    }
   ],
   "source": [
    "dfm"
   ]
  },
  {
   "cell_type": "code",
   "execution_count": 81,
   "metadata": {},
   "outputs": [],
   "source": [
    "dat.to_csv('data/data_clean.csv', index=False)"
   ]
  },
  {
   "cell_type": "markdown",
   "metadata": {},
   "source": [
    "### Predict major1"
   ]
  },
  {
   "cell_type": "code",
   "execution_count": 57,
   "metadata": {},
   "outputs": [],
   "source": [
    "from sklearn.datasets import make_classification\n",
    "from sklearn.model_selection import cross_val_score\n",
    "from sklearn.model_selection import RepeatedStratifiedKFold\n",
    "from sklearn.linear_model import LogisticRegression\n",
    "from sklearn.metrics import confusion_matrix \n",
    "from sklearn.model_selection import train_test_split \n",
    "from sklearn.neighbors import KNeighborsClassifier \n",
    "\n",
    "from sklearn import svm"
   ]
  },
  {
   "cell_type": "code",
   "execution_count": 58,
   "metadata": {},
   "outputs": [],
   "source": [
    "X=dfm.iloc[:,:-1]\n",
    "y=dfm.iloc[:,-1]"
   ]
  },
  {
   "cell_type": "code",
   "execution_count": 59,
   "metadata": {},
   "outputs": [
    {
     "data": {
      "text/html": [
       "<div>\n",
       "<style scoped>\n",
       "    .dataframe tbody tr th:only-of-type {\n",
       "        vertical-align: middle;\n",
       "    }\n",
       "\n",
       "    .dataframe tbody tr th {\n",
       "        vertical-align: top;\n",
       "    }\n",
       "\n",
       "    .dataframe thead th {\n",
       "        text-align: right;\n",
       "    }\n",
       "</style>\n",
       "<table border=\"1\" class=\"dataframe\">\n",
       "  <thead>\n",
       "    <tr style=\"text-align: right;\">\n",
       "      <th></th>\n",
       "      <th>SIBS_log</th>\n",
       "      <th>DEGREE</th>\n",
       "      <th>PADEG</th>\n",
       "      <th>MADEG</th>\n",
       "      <th>SEX</th>\n",
       "      <th>FAMILY16_cat</th>\n",
       "      <th>PARBORN_cat</th>\n",
       "      <th>GRANBORN</th>\n",
       "      <th>POLVIEWS_cat</th>\n",
       "      <th>INCOME</th>\n",
       "    </tr>\n",
       "  </thead>\n",
       "  <tbody>\n",
       "    <tr>\n",
       "      <th>2435</th>\n",
       "      <td>0.000000</td>\n",
       "      <td>1</td>\n",
       "      <td>2</td>\n",
       "      <td>1</td>\n",
       "      <td>0</td>\n",
       "      <td>6</td>\n",
       "      <td>0</td>\n",
       "      <td>5.0</td>\n",
       "      <td>3</td>\n",
       "      <td>30000</td>\n",
       "    </tr>\n",
       "    <tr>\n",
       "      <th>2436</th>\n",
       "      <td>1.098612</td>\n",
       "      <td>1</td>\n",
       "      <td>1</td>\n",
       "      <td>1</td>\n",
       "      <td>0</td>\n",
       "      <td>5</td>\n",
       "      <td>0</td>\n",
       "      <td>5.0</td>\n",
       "      <td>3</td>\n",
       "      <td>6000</td>\n",
       "    </tr>\n",
       "    <tr>\n",
       "      <th>2437</th>\n",
       "      <td>1.386294</td>\n",
       "      <td>0</td>\n",
       "      <td>1</td>\n",
       "      <td>1</td>\n",
       "      <td>0</td>\n",
       "      <td>0</td>\n",
       "      <td>5</td>\n",
       "      <td>4.0</td>\n",
       "      <td>3</td>\n",
       "      <td>90000</td>\n",
       "    </tr>\n",
       "    <tr>\n",
       "      <th>2438</th>\n",
       "      <td>1.609438</td>\n",
       "      <td>1</td>\n",
       "      <td>4</td>\n",
       "      <td>4</td>\n",
       "      <td>1</td>\n",
       "      <td>6</td>\n",
       "      <td>5</td>\n",
       "      <td>4.0</td>\n",
       "      <td>6</td>\n",
       "      <td>60000</td>\n",
       "    </tr>\n",
       "    <tr>\n",
       "      <th>2439</th>\n",
       "      <td>1.098612</td>\n",
       "      <td>1</td>\n",
       "      <td>1</td>\n",
       "      <td>3</td>\n",
       "      <td>0</td>\n",
       "      <td>5</td>\n",
       "      <td>2</td>\n",
       "      <td>2.0</td>\n",
       "      <td>3</td>\n",
       "      <td>30000</td>\n",
       "    </tr>\n",
       "    <tr>\n",
       "      <th>...</th>\n",
       "      <td>...</td>\n",
       "      <td>...</td>\n",
       "      <td>...</td>\n",
       "      <td>...</td>\n",
       "      <td>...</td>\n",
       "      <td>...</td>\n",
       "      <td>...</td>\n",
       "      <td>...</td>\n",
       "      <td>...</td>\n",
       "      <td>...</td>\n",
       "    </tr>\n",
       "    <tr>\n",
       "      <th>3758</th>\n",
       "      <td>0.000000</td>\n",
       "      <td>0</td>\n",
       "      <td>0</td>\n",
       "      <td>0</td>\n",
       "      <td>0</td>\n",
       "      <td>6</td>\n",
       "      <td>0</td>\n",
       "      <td>5.0</td>\n",
       "      <td>3</td>\n",
       "      <td>40000</td>\n",
       "    </tr>\n",
       "    <tr>\n",
       "      <th>3759</th>\n",
       "      <td>1.098612</td>\n",
       "      <td>0</td>\n",
       "      <td>1</td>\n",
       "      <td>1</td>\n",
       "      <td>0</td>\n",
       "      <td>6</td>\n",
       "      <td>0</td>\n",
       "      <td>5.0</td>\n",
       "      <td>0</td>\n",
       "      <td>40000</td>\n",
       "    </tr>\n",
       "    <tr>\n",
       "      <th>3760</th>\n",
       "      <td>1.098612</td>\n",
       "      <td>2</td>\n",
       "      <td>3</td>\n",
       "      <td>2</td>\n",
       "      <td>0</td>\n",
       "      <td>6</td>\n",
       "      <td>0</td>\n",
       "      <td>2.0</td>\n",
       "      <td>1</td>\n",
       "      <td>50000</td>\n",
       "    </tr>\n",
       "    <tr>\n",
       "      <th>3761</th>\n",
       "      <td>0.693147</td>\n",
       "      <td>0</td>\n",
       "      <td>1</td>\n",
       "      <td>1</td>\n",
       "      <td>0</td>\n",
       "      <td>6</td>\n",
       "      <td>0</td>\n",
       "      <td>5.0</td>\n",
       "      <td>0</td>\n",
       "      <td>60000</td>\n",
       "    </tr>\n",
       "    <tr>\n",
       "      <th>3762</th>\n",
       "      <td>0.693147</td>\n",
       "      <td>1</td>\n",
       "      <td>2</td>\n",
       "      <td>2</td>\n",
       "      <td>0</td>\n",
       "      <td>6</td>\n",
       "      <td>0</td>\n",
       "      <td>5.0</td>\n",
       "      <td>4</td>\n",
       "      <td>8000</td>\n",
       "    </tr>\n",
       "  </tbody>\n",
       "</table>\n",
       "<p>1269 rows × 10 columns</p>\n",
       "</div>"
      ],
      "text/plain": [
       "      SIBS_log  DEGREE  PADEG  MADEG  SEX  FAMILY16_cat  PARBORN_cat  \\\n",
       "2435  0.000000       1      2      1    0             6            0   \n",
       "2436  1.098612       1      1      1    0             5            0   \n",
       "2437  1.386294       0      1      1    0             0            5   \n",
       "2438  1.609438       1      4      4    1             6            5   \n",
       "2439  1.098612       1      1      3    0             5            2   \n",
       "...        ...     ...    ...    ...  ...           ...          ...   \n",
       "3758  0.000000       0      0      0    0             6            0   \n",
       "3759  1.098612       0      1      1    0             6            0   \n",
       "3760  1.098612       2      3      2    0             6            0   \n",
       "3761  0.693147       0      1      1    0             6            0   \n",
       "3762  0.693147       1      2      2    0             6            0   \n",
       "\n",
       "      GRANBORN  POLVIEWS_cat  INCOME  \n",
       "2435       5.0             3   30000  \n",
       "2436       5.0             3    6000  \n",
       "2437       4.0             3   90000  \n",
       "2438       4.0             6   60000  \n",
       "2439       2.0             3   30000  \n",
       "...        ...           ...     ...  \n",
       "3758       5.0             3   40000  \n",
       "3759       5.0             0   40000  \n",
       "3760       2.0             1   50000  \n",
       "3761       5.0             0   60000  \n",
       "3762       5.0             4    8000  \n",
       "\n",
       "[1269 rows x 10 columns]"
      ]
     },
     "execution_count": 59,
     "metadata": {},
     "output_type": "execute_result"
    }
   ],
   "source": [
    "X"
   ]
  },
  {
   "cell_type": "code",
   "execution_count": 60,
   "metadata": {},
   "outputs": [
    {
     "data": {
      "text/plain": [
       "2435    65\n",
       "2436    48\n",
       "2437    39\n",
       "2438    25\n",
       "2439    63\n",
       "        ..\n",
       "3758    10\n",
       "3759    39\n",
       "3760    22\n",
       "3761    44\n",
       "3762    56\n",
       "Name: MAJOR1_cat, Length: 1269, dtype: int8"
      ]
     },
     "execution_count": 60,
     "metadata": {},
     "output_type": "execute_result"
    }
   ],
   "source": [
    "y"
   ]
  },
  {
   "cell_type": "markdown",
   "metadata": {},
   "source": [
    "### Try Logistic regression"
   ]
  },
  {
   "cell_type": "code",
   "execution_count": 61,
   "metadata": {
    "scrolled": true
   },
   "outputs": [
    {
     "name": "stdout",
     "output_type": "stream",
     "text": [
      "Mean Accuracy: 0.140 (0.003)\n"
     ]
    }
   ],
   "source": [
    "# define the multinomial logistic regression model\n",
    "model = LogisticRegression(multi_class='multinomial', solver='lbfgs')\n",
    "# define the model evaluation procedure\n",
    "cv = RepeatedStratifiedKFold(n_splits=10, n_repeats=3, random_state=1)\n",
    "# evaluate the model and collect the scores\n",
    "n_scores = cross_val_score(model, X, y, scoring='accuracy', cv=cv, n_jobs=-1)\n",
    "# report the model performance\n",
    "print('Mean Accuracy: %.3f (%.3f)' % (np.mean(n_scores), np.std(n_scores)))"
   ]
  },
  {
   "cell_type": "code",
   "execution_count": 62,
   "metadata": {},
   "outputs": [
    {
     "data": {
      "text/plain": [
       "LogisticRegression(multi_class='multinomial')"
      ]
     },
     "execution_count": 62,
     "metadata": {},
     "output_type": "execute_result"
    }
   ],
   "source": [
    "model = LogisticRegression(multi_class='multinomial', solver='lbfgs')\n",
    "model.fit(X, y)"
   ]
  },
  {
   "cell_type": "code",
   "execution_count": 63,
   "metadata": {},
   "outputs": [
    {
     "data": {
      "text/html": [
       "<div>\n",
       "<style scoped>\n",
       "    .dataframe tbody tr th:only-of-type {\n",
       "        vertical-align: middle;\n",
       "    }\n",
       "\n",
       "    .dataframe tbody tr th {\n",
       "        vertical-align: top;\n",
       "    }\n",
       "\n",
       "    .dataframe thead th {\n",
       "        text-align: right;\n",
       "    }\n",
       "</style>\n",
       "<table border=\"1\" class=\"dataframe\">\n",
       "  <thead>\n",
       "    <tr style=\"text-align: right;\">\n",
       "      <th></th>\n",
       "      <th>SIBS_log</th>\n",
       "      <th>DEGREE</th>\n",
       "      <th>PADEG</th>\n",
       "      <th>MADEG</th>\n",
       "      <th>SEX</th>\n",
       "      <th>FAMILY16_cat</th>\n",
       "      <th>PARBORN_cat</th>\n",
       "      <th>GRANBORN</th>\n",
       "      <th>POLVIEWS_cat</th>\n",
       "      <th>INCOME</th>\n",
       "    </tr>\n",
       "  </thead>\n",
       "  <tbody>\n",
       "    <tr>\n",
       "      <th>0</th>\n",
       "      <td>0.693147</td>\n",
       "      <td>1</td>\n",
       "      <td>3</td>\n",
       "      <td>4</td>\n",
       "      <td>1</td>\n",
       "      <td>6</td>\n",
       "      <td>0</td>\n",
       "      <td>1.0</td>\n",
       "      <td>5</td>\n",
       "      <td>8000</td>\n",
       "    </tr>\n",
       "    <tr>\n",
       "      <th>1</th>\n",
       "      <td>1.945910</td>\n",
       "      <td>0</td>\n",
       "      <td>1</td>\n",
       "      <td>1</td>\n",
       "      <td>0</td>\n",
       "      <td>6</td>\n",
       "      <td>0</td>\n",
       "      <td>1.0</td>\n",
       "      <td>3</td>\n",
       "      <td>7000</td>\n",
       "    </tr>\n",
       "    <tr>\n",
       "      <th>2</th>\n",
       "      <td>0.000000</td>\n",
       "      <td>2</td>\n",
       "      <td>1</td>\n",
       "      <td>1</td>\n",
       "      <td>1</td>\n",
       "      <td>6</td>\n",
       "      <td>0</td>\n",
       "      <td>5.0</td>\n",
       "      <td>6</td>\n",
       "      <td>50000</td>\n",
       "    </tr>\n",
       "    <tr>\n",
       "      <th>4</th>\n",
       "      <td>2.079442</td>\n",
       "      <td>1</td>\n",
       "      <td>1</td>\n",
       "      <td>1</td>\n",
       "      <td>1</td>\n",
       "      <td>5</td>\n",
       "      <td>0</td>\n",
       "      <td>5.0</td>\n",
       "      <td>3</td>\n",
       "      <td>75000</td>\n",
       "    </tr>\n",
       "    <tr>\n",
       "      <th>5</th>\n",
       "      <td>1.386294</td>\n",
       "      <td>1</td>\n",
       "      <td>3</td>\n",
       "      <td>1</td>\n",
       "      <td>1</td>\n",
       "      <td>6</td>\n",
       "      <td>0</td>\n",
       "      <td>1.0</td>\n",
       "      <td>5</td>\n",
       "      <td>60000</td>\n",
       "    </tr>\n",
       "    <tr>\n",
       "      <th>...</th>\n",
       "      <td>...</td>\n",
       "      <td>...</td>\n",
       "      <td>...</td>\n",
       "      <td>...</td>\n",
       "      <td>...</td>\n",
       "      <td>...</td>\n",
       "      <td>...</td>\n",
       "      <td>...</td>\n",
       "      <td>...</td>\n",
       "      <td>...</td>\n",
       "    </tr>\n",
       "    <tr>\n",
       "      <th>2434</th>\n",
       "      <td>1.386294</td>\n",
       "      <td>1</td>\n",
       "      <td>0</td>\n",
       "      <td>0</td>\n",
       "      <td>0</td>\n",
       "      <td>6</td>\n",
       "      <td>0</td>\n",
       "      <td>5.0</td>\n",
       "      <td>1</td>\n",
       "      <td>1</td>\n",
       "    </tr>\n",
       "    <tr>\n",
       "      <th>2621</th>\n",
       "      <td>1.098612</td>\n",
       "      <td>0</td>\n",
       "      <td>0</td>\n",
       "      <td>1</td>\n",
       "      <td>0</td>\n",
       "      <td>6</td>\n",
       "      <td>0</td>\n",
       "      <td>5.0</td>\n",
       "      <td>4</td>\n",
       "      <td>40000</td>\n",
       "    </tr>\n",
       "    <tr>\n",
       "      <th>3175</th>\n",
       "      <td>1.609438</td>\n",
       "      <td>1</td>\n",
       "      <td>3</td>\n",
       "      <td>3</td>\n",
       "      <td>1</td>\n",
       "      <td>6</td>\n",
       "      <td>0</td>\n",
       "      <td>5.0</td>\n",
       "      <td>0</td>\n",
       "      <td>90000</td>\n",
       "    </tr>\n",
       "    <tr>\n",
       "      <th>3223</th>\n",
       "      <td>0.000000</td>\n",
       "      <td>0</td>\n",
       "      <td>1</td>\n",
       "      <td>1</td>\n",
       "      <td>1</td>\n",
       "      <td>6</td>\n",
       "      <td>0</td>\n",
       "      <td>5.0</td>\n",
       "      <td>4</td>\n",
       "      <td>5000</td>\n",
       "    </tr>\n",
       "    <tr>\n",
       "      <th>3280</th>\n",
       "      <td>1.791759</td>\n",
       "      <td>1</td>\n",
       "      <td>1</td>\n",
       "      <td>1</td>\n",
       "      <td>1</td>\n",
       "      <td>6</td>\n",
       "      <td>0</td>\n",
       "      <td>5.0</td>\n",
       "      <td>0</td>\n",
       "      <td>12500</td>\n",
       "    </tr>\n",
       "  </tbody>\n",
       "</table>\n",
       "<p>2329 rows × 10 columns</p>\n",
       "</div>"
      ],
      "text/plain": [
       "      SIBS_log  DEGREE  PADEG  MADEG  SEX  FAMILY16_cat  PARBORN_cat  \\\n",
       "0     0.693147       1      3      4    1             6            0   \n",
       "1     1.945910       0      1      1    0             6            0   \n",
       "2     0.000000       2      1      1    1             6            0   \n",
       "4     2.079442       1      1      1    1             5            0   \n",
       "5     1.386294       1      3      1    1             6            0   \n",
       "...        ...     ...    ...    ...  ...           ...          ...   \n",
       "2434  1.386294       1      0      0    0             6            0   \n",
       "2621  1.098612       0      0      1    0             6            0   \n",
       "3175  1.609438       1      3      3    1             6            0   \n",
       "3223  0.000000       0      1      1    1             6            0   \n",
       "3280  1.791759       1      1      1    1             6            0   \n",
       "\n",
       "      GRANBORN  POLVIEWS_cat  INCOME  \n",
       "0          1.0             5    8000  \n",
       "1          1.0             3    7000  \n",
       "2          5.0             6   50000  \n",
       "4          5.0             3   75000  \n",
       "5          1.0             5   60000  \n",
       "...        ...           ...     ...  \n",
       "2434       5.0             1       1  \n",
       "2621       5.0             4   40000  \n",
       "3175       5.0             0   90000  \n",
       "3223       5.0             4    5000  \n",
       "3280       5.0             0   12500  \n",
       "\n",
       "[2329 rows x 10 columns]"
      ]
     },
     "execution_count": 63,
     "metadata": {},
     "output_type": "execute_result"
    }
   ],
   "source": [
    "dfs = dat[columns_in_use].loc[dat['MAJOR1_cat'] == -1].iloc[:,:-1]\n",
    "dfs"
   ]
  },
  {
   "cell_type": "code",
   "execution_count": 64,
   "metadata": {},
   "outputs": [],
   "source": [
    "yhat = model.predict(dfs)"
   ]
  },
  {
   "cell_type": "code",
   "execution_count": 65,
   "metadata": {},
   "outputs": [],
   "source": [
    "dfs['Major_pred'] = yhat"
   ]
  },
  {
   "cell_type": "code",
   "execution_count": 66,
   "metadata": {
    "scrolled": true
   },
   "outputs": [
    {
     "data": {
      "text/html": [
       "<div>\n",
       "<style scoped>\n",
       "    .dataframe tbody tr th:only-of-type {\n",
       "        vertical-align: middle;\n",
       "    }\n",
       "\n",
       "    .dataframe tbody tr th {\n",
       "        vertical-align: top;\n",
       "    }\n",
       "\n",
       "    .dataframe thead th {\n",
       "        text-align: right;\n",
       "    }\n",
       "</style>\n",
       "<table border=\"1\" class=\"dataframe\">\n",
       "  <thead>\n",
       "    <tr style=\"text-align: right;\">\n",
       "      <th></th>\n",
       "      <th>SIBS_log</th>\n",
       "      <th>DEGREE</th>\n",
       "      <th>PADEG</th>\n",
       "      <th>MADEG</th>\n",
       "      <th>SEX</th>\n",
       "      <th>FAMILY16_cat</th>\n",
       "      <th>PARBORN_cat</th>\n",
       "      <th>GRANBORN</th>\n",
       "      <th>POLVIEWS_cat</th>\n",
       "      <th>INCOME</th>\n",
       "      <th>Major_pred</th>\n",
       "    </tr>\n",
       "  </thead>\n",
       "  <tbody>\n",
       "    <tr>\n",
       "      <th>0</th>\n",
       "      <td>0.693147</td>\n",
       "      <td>1</td>\n",
       "      <td>3</td>\n",
       "      <td>4</td>\n",
       "      <td>1</td>\n",
       "      <td>6</td>\n",
       "      <td>0</td>\n",
       "      <td>1.0</td>\n",
       "      <td>5</td>\n",
       "      <td>8000</td>\n",
       "      <td>10</td>\n",
       "    </tr>\n",
       "    <tr>\n",
       "      <th>1</th>\n",
       "      <td>1.945910</td>\n",
       "      <td>0</td>\n",
       "      <td>1</td>\n",
       "      <td>1</td>\n",
       "      <td>0</td>\n",
       "      <td>6</td>\n",
       "      <td>0</td>\n",
       "      <td>1.0</td>\n",
       "      <td>3</td>\n",
       "      <td>7000</td>\n",
       "      <td>10</td>\n",
       "    </tr>\n",
       "    <tr>\n",
       "      <th>2</th>\n",
       "      <td>0.000000</td>\n",
       "      <td>2</td>\n",
       "      <td>1</td>\n",
       "      <td>1</td>\n",
       "      <td>1</td>\n",
       "      <td>6</td>\n",
       "      <td>0</td>\n",
       "      <td>5.0</td>\n",
       "      <td>6</td>\n",
       "      <td>50000</td>\n",
       "      <td>10</td>\n",
       "    </tr>\n",
       "    <tr>\n",
       "      <th>4</th>\n",
       "      <td>2.079442</td>\n",
       "      <td>1</td>\n",
       "      <td>1</td>\n",
       "      <td>1</td>\n",
       "      <td>1</td>\n",
       "      <td>5</td>\n",
       "      <td>0</td>\n",
       "      <td>5.0</td>\n",
       "      <td>3</td>\n",
       "      <td>75000</td>\n",
       "      <td>10</td>\n",
       "    </tr>\n",
       "    <tr>\n",
       "      <th>5</th>\n",
       "      <td>1.386294</td>\n",
       "      <td>1</td>\n",
       "      <td>3</td>\n",
       "      <td>1</td>\n",
       "      <td>1</td>\n",
       "      <td>6</td>\n",
       "      <td>0</td>\n",
       "      <td>1.0</td>\n",
       "      <td>5</td>\n",
       "      <td>60000</td>\n",
       "      <td>10</td>\n",
       "    </tr>\n",
       "    <tr>\n",
       "      <th>...</th>\n",
       "      <td>...</td>\n",
       "      <td>...</td>\n",
       "      <td>...</td>\n",
       "      <td>...</td>\n",
       "      <td>...</td>\n",
       "      <td>...</td>\n",
       "      <td>...</td>\n",
       "      <td>...</td>\n",
       "      <td>...</td>\n",
       "      <td>...</td>\n",
       "      <td>...</td>\n",
       "    </tr>\n",
       "    <tr>\n",
       "      <th>2434</th>\n",
       "      <td>1.386294</td>\n",
       "      <td>1</td>\n",
       "      <td>0</td>\n",
       "      <td>0</td>\n",
       "      <td>0</td>\n",
       "      <td>6</td>\n",
       "      <td>0</td>\n",
       "      <td>5.0</td>\n",
       "      <td>1</td>\n",
       "      <td>1</td>\n",
       "      <td>10</td>\n",
       "    </tr>\n",
       "    <tr>\n",
       "      <th>2621</th>\n",
       "      <td>1.098612</td>\n",
       "      <td>0</td>\n",
       "      <td>0</td>\n",
       "      <td>1</td>\n",
       "      <td>0</td>\n",
       "      <td>6</td>\n",
       "      <td>0</td>\n",
       "      <td>5.0</td>\n",
       "      <td>4</td>\n",
       "      <td>40000</td>\n",
       "      <td>10</td>\n",
       "    </tr>\n",
       "    <tr>\n",
       "      <th>3175</th>\n",
       "      <td>1.609438</td>\n",
       "      <td>1</td>\n",
       "      <td>3</td>\n",
       "      <td>3</td>\n",
       "      <td>1</td>\n",
       "      <td>6</td>\n",
       "      <td>0</td>\n",
       "      <td>5.0</td>\n",
       "      <td>0</td>\n",
       "      <td>90000</td>\n",
       "      <td>10</td>\n",
       "    </tr>\n",
       "    <tr>\n",
       "      <th>3223</th>\n",
       "      <td>0.000000</td>\n",
       "      <td>0</td>\n",
       "      <td>1</td>\n",
       "      <td>1</td>\n",
       "      <td>1</td>\n",
       "      <td>6</td>\n",
       "      <td>0</td>\n",
       "      <td>5.0</td>\n",
       "      <td>4</td>\n",
       "      <td>5000</td>\n",
       "      <td>10</td>\n",
       "    </tr>\n",
       "    <tr>\n",
       "      <th>3280</th>\n",
       "      <td>1.791759</td>\n",
       "      <td>1</td>\n",
       "      <td>1</td>\n",
       "      <td>1</td>\n",
       "      <td>1</td>\n",
       "      <td>6</td>\n",
       "      <td>0</td>\n",
       "      <td>5.0</td>\n",
       "      <td>0</td>\n",
       "      <td>12500</td>\n",
       "      <td>10</td>\n",
       "    </tr>\n",
       "  </tbody>\n",
       "</table>\n",
       "<p>2329 rows × 11 columns</p>\n",
       "</div>"
      ],
      "text/plain": [
       "      SIBS_log  DEGREE  PADEG  MADEG  SEX  FAMILY16_cat  PARBORN_cat  \\\n",
       "0     0.693147       1      3      4    1             6            0   \n",
       "1     1.945910       0      1      1    0             6            0   \n",
       "2     0.000000       2      1      1    1             6            0   \n",
       "4     2.079442       1      1      1    1             5            0   \n",
       "5     1.386294       1      3      1    1             6            0   \n",
       "...        ...     ...    ...    ...  ...           ...          ...   \n",
       "2434  1.386294       1      0      0    0             6            0   \n",
       "2621  1.098612       0      0      1    0             6            0   \n",
       "3175  1.609438       1      3      3    1             6            0   \n",
       "3223  0.000000       0      1      1    1             6            0   \n",
       "3280  1.791759       1      1      1    1             6            0   \n",
       "\n",
       "      GRANBORN  POLVIEWS_cat  INCOME  Major_pred  \n",
       "0          1.0             5    8000          10  \n",
       "1          1.0             3    7000          10  \n",
       "2          5.0             6   50000          10  \n",
       "4          5.0             3   75000          10  \n",
       "5          1.0             5   60000          10  \n",
       "...        ...           ...     ...         ...  \n",
       "2434       5.0             1       1          10  \n",
       "2621       5.0             4   40000          10  \n",
       "3175       5.0             0   90000          10  \n",
       "3223       5.0             4    5000          10  \n",
       "3280       5.0             0   12500          10  \n",
       "\n",
       "[2329 rows x 11 columns]"
      ]
     },
     "execution_count": 66,
     "metadata": {},
     "output_type": "execute_result"
    }
   ],
   "source": [
    "dfs"
   ]
  },
  {
   "cell_type": "markdown",
   "metadata": {},
   "source": [
    "### Try KNN"
   ]
  },
  {
   "cell_type": "code",
   "execution_count": 67,
   "metadata": {
    "scrolled": true
   },
   "outputs": [
    {
     "name": "stdout",
     "output_type": "stream",
     "text": [
      "0.09448818897637795\n"
     ]
    }
   ],
   "source": [
    "X_train, X_test, y_train, y_test = train_test_split(X, y, train_size=0.8, random_state = 0) \n",
    "  \n",
    "# training a KNN classifier \n",
    "knn = KNeighborsClassifier(n_neighbors = 7).fit(X_train, y_train) \n",
    "  \n",
    "# accuracy on X_test \n",
    "accuracy = knn.score(X_test, y_test) \n",
    "print (accuracy) \n",
    "  \n",
    "# creating a confusion matrix \n",
    "knn_predictions = knn.predict(X_test)  \n",
    "cm = confusion_matrix(y_test, knn_predictions) "
   ]
  },
  {
   "cell_type": "markdown",
   "metadata": {},
   "source": [
    "### Try SVM"
   ]
  },
  {
   "cell_type": "code",
   "execution_count": 68,
   "metadata": {},
   "outputs": [],
   "source": [
    "X_train, X_test, y_train, y_test = train_test_split(X, y, train_size=0.6, random_state=0)"
   ]
  },
  {
   "cell_type": "code",
   "execution_count": 69,
   "metadata": {},
   "outputs": [
    {
     "data": {
      "text/plain": [
       "((761, 10), (761,))"
      ]
     },
     "execution_count": 69,
     "metadata": {},
     "output_type": "execute_result"
    }
   ],
   "source": [
    "X_train.shape, y_train.shape"
   ]
  },
  {
   "cell_type": "code",
   "execution_count": 70,
   "metadata": {},
   "outputs": [
    {
     "data": {
      "text/plain": [
       "((508, 10), (508,))"
      ]
     },
     "execution_count": 70,
     "metadata": {},
     "output_type": "execute_result"
    }
   ],
   "source": [
    "X_test.shape, y_test.shape"
   ]
  },
  {
   "cell_type": "code",
   "execution_count": null,
   "metadata": {},
   "outputs": [],
   "source": []
  },
  {
   "cell_type": "code",
   "execution_count": 72,
   "metadata": {},
   "outputs": [
    {
     "name": "stdout",
     "output_type": "stream",
     "text": [
      "Mean Accuracy: 0.140 (0.002)\n"
     ]
    }
   ],
   "source": [
    "clf = svm.SVC(kernel='rbf', C=1, random_state=1)\n",
    "cv = RepeatedStratifiedKFold(n_splits=5, n_repeats=3, random_state=1)\n",
    "# evaluate the model and collect the scores\n",
    "n_scores = cross_val_score(clf, X, y, scoring='accuracy', cv=cv, n_jobs=-1)\n",
    "# report the model performance\n",
    "print('Mean Accuracy: %.3f (%.3f)' % (np.mean(n_scores), np.std(n_scores)))"
   ]
  },
  {
   "cell_type": "code",
   "execution_count": 76,
   "metadata": {},
   "outputs": [
    {
     "data": {
      "text/plain": [
       "SVC(C=1, random_state=1)"
      ]
     },
     "execution_count": 76,
     "metadata": {},
     "output_type": "execute_result"
    }
   ],
   "source": [
    "clf.fit(X,y)"
   ]
  },
  {
   "cell_type": "code",
   "execution_count": 78,
   "metadata": {},
   "outputs": [],
   "source": [
    "dfs = dat[columns_in_use].loc[dat['MAJOR1_cat'] == -1].iloc[:,:-1]"
   ]
  },
  {
   "cell_type": "code",
   "execution_count": 79,
   "metadata": {},
   "outputs": [],
   "source": [
    "yhat=clf.predict(dfs) "
   ]
  },
  {
   "cell_type": "code",
   "execution_count": 80,
   "metadata": {
    "scrolled": true
   },
   "outputs": [
    {
     "data": {
      "text/html": [
       "<div>\n",
       "<style scoped>\n",
       "    .dataframe tbody tr th:only-of-type {\n",
       "        vertical-align: middle;\n",
       "    }\n",
       "\n",
       "    .dataframe tbody tr th {\n",
       "        vertical-align: top;\n",
       "    }\n",
       "\n",
       "    .dataframe thead th {\n",
       "        text-align: right;\n",
       "    }\n",
       "</style>\n",
       "<table border=\"1\" class=\"dataframe\">\n",
       "  <thead>\n",
       "    <tr style=\"text-align: right;\">\n",
       "      <th></th>\n",
       "      <th>SIBS_log</th>\n",
       "      <th>DEGREE</th>\n",
       "      <th>PADEG</th>\n",
       "      <th>MADEG</th>\n",
       "      <th>SEX</th>\n",
       "      <th>FAMILY16_cat</th>\n",
       "      <th>PARBORN_cat</th>\n",
       "      <th>GRANBORN</th>\n",
       "      <th>POLVIEWS_cat</th>\n",
       "      <th>INCOME</th>\n",
       "      <th>yhat</th>\n",
       "    </tr>\n",
       "  </thead>\n",
       "  <tbody>\n",
       "    <tr>\n",
       "      <th>0</th>\n",
       "      <td>0.693147</td>\n",
       "      <td>1</td>\n",
       "      <td>3</td>\n",
       "      <td>4</td>\n",
       "      <td>1</td>\n",
       "      <td>6</td>\n",
       "      <td>0</td>\n",
       "      <td>1.0</td>\n",
       "      <td>5</td>\n",
       "      <td>8000</td>\n",
       "      <td>10</td>\n",
       "    </tr>\n",
       "    <tr>\n",
       "      <th>1</th>\n",
       "      <td>1.945910</td>\n",
       "      <td>0</td>\n",
       "      <td>1</td>\n",
       "      <td>1</td>\n",
       "      <td>0</td>\n",
       "      <td>6</td>\n",
       "      <td>0</td>\n",
       "      <td>1.0</td>\n",
       "      <td>3</td>\n",
       "      <td>7000</td>\n",
       "      <td>10</td>\n",
       "    </tr>\n",
       "    <tr>\n",
       "      <th>2</th>\n",
       "      <td>0.000000</td>\n",
       "      <td>2</td>\n",
       "      <td>1</td>\n",
       "      <td>1</td>\n",
       "      <td>1</td>\n",
       "      <td>6</td>\n",
       "      <td>0</td>\n",
       "      <td>5.0</td>\n",
       "      <td>6</td>\n",
       "      <td>50000</td>\n",
       "      <td>10</td>\n",
       "    </tr>\n",
       "    <tr>\n",
       "      <th>4</th>\n",
       "      <td>2.079442</td>\n",
       "      <td>1</td>\n",
       "      <td>1</td>\n",
       "      <td>1</td>\n",
       "      <td>1</td>\n",
       "      <td>5</td>\n",
       "      <td>0</td>\n",
       "      <td>5.0</td>\n",
       "      <td>3</td>\n",
       "      <td>75000</td>\n",
       "      <td>10</td>\n",
       "    </tr>\n",
       "    <tr>\n",
       "      <th>5</th>\n",
       "      <td>1.386294</td>\n",
       "      <td>1</td>\n",
       "      <td>3</td>\n",
       "      <td>1</td>\n",
       "      <td>1</td>\n",
       "      <td>6</td>\n",
       "      <td>0</td>\n",
       "      <td>1.0</td>\n",
       "      <td>5</td>\n",
       "      <td>60000</td>\n",
       "      <td>10</td>\n",
       "    </tr>\n",
       "    <tr>\n",
       "      <th>...</th>\n",
       "      <td>...</td>\n",
       "      <td>...</td>\n",
       "      <td>...</td>\n",
       "      <td>...</td>\n",
       "      <td>...</td>\n",
       "      <td>...</td>\n",
       "      <td>...</td>\n",
       "      <td>...</td>\n",
       "      <td>...</td>\n",
       "      <td>...</td>\n",
       "      <td>...</td>\n",
       "    </tr>\n",
       "    <tr>\n",
       "      <th>2434</th>\n",
       "      <td>1.386294</td>\n",
       "      <td>1</td>\n",
       "      <td>0</td>\n",
       "      <td>0</td>\n",
       "      <td>0</td>\n",
       "      <td>6</td>\n",
       "      <td>0</td>\n",
       "      <td>5.0</td>\n",
       "      <td>1</td>\n",
       "      <td>1</td>\n",
       "      <td>10</td>\n",
       "    </tr>\n",
       "    <tr>\n",
       "      <th>2621</th>\n",
       "      <td>1.098612</td>\n",
       "      <td>0</td>\n",
       "      <td>0</td>\n",
       "      <td>1</td>\n",
       "      <td>0</td>\n",
       "      <td>6</td>\n",
       "      <td>0</td>\n",
       "      <td>5.0</td>\n",
       "      <td>4</td>\n",
       "      <td>40000</td>\n",
       "      <td>10</td>\n",
       "    </tr>\n",
       "    <tr>\n",
       "      <th>3175</th>\n",
       "      <td>1.609438</td>\n",
       "      <td>1</td>\n",
       "      <td>3</td>\n",
       "      <td>3</td>\n",
       "      <td>1</td>\n",
       "      <td>6</td>\n",
       "      <td>0</td>\n",
       "      <td>5.0</td>\n",
       "      <td>0</td>\n",
       "      <td>90000</td>\n",
       "      <td>10</td>\n",
       "    </tr>\n",
       "    <tr>\n",
       "      <th>3223</th>\n",
       "      <td>0.000000</td>\n",
       "      <td>0</td>\n",
       "      <td>1</td>\n",
       "      <td>1</td>\n",
       "      <td>1</td>\n",
       "      <td>6</td>\n",
       "      <td>0</td>\n",
       "      <td>5.0</td>\n",
       "      <td>4</td>\n",
       "      <td>5000</td>\n",
       "      <td>10</td>\n",
       "    </tr>\n",
       "    <tr>\n",
       "      <th>3280</th>\n",
       "      <td>1.791759</td>\n",
       "      <td>1</td>\n",
       "      <td>1</td>\n",
       "      <td>1</td>\n",
       "      <td>1</td>\n",
       "      <td>6</td>\n",
       "      <td>0</td>\n",
       "      <td>5.0</td>\n",
       "      <td>0</td>\n",
       "      <td>12500</td>\n",
       "      <td>10</td>\n",
       "    </tr>\n",
       "  </tbody>\n",
       "</table>\n",
       "<p>2329 rows × 11 columns</p>\n",
       "</div>"
      ],
      "text/plain": [
       "      SIBS_log  DEGREE  PADEG  MADEG  SEX  FAMILY16_cat  PARBORN_cat  \\\n",
       "0     0.693147       1      3      4    1             6            0   \n",
       "1     1.945910       0      1      1    0             6            0   \n",
       "2     0.000000       2      1      1    1             6            0   \n",
       "4     2.079442       1      1      1    1             5            0   \n",
       "5     1.386294       1      3      1    1             6            0   \n",
       "...        ...     ...    ...    ...  ...           ...          ...   \n",
       "2434  1.386294       1      0      0    0             6            0   \n",
       "2621  1.098612       0      0      1    0             6            0   \n",
       "3175  1.609438       1      3      3    1             6            0   \n",
       "3223  0.000000       0      1      1    1             6            0   \n",
       "3280  1.791759       1      1      1    1             6            0   \n",
       "\n",
       "      GRANBORN  POLVIEWS_cat  INCOME  yhat  \n",
       "0          1.0             5    8000    10  \n",
       "1          1.0             3    7000    10  \n",
       "2          5.0             6   50000    10  \n",
       "4          5.0             3   75000    10  \n",
       "5          1.0             5   60000    10  \n",
       "...        ...           ...     ...   ...  \n",
       "2434       5.0             1       1    10  \n",
       "2621       5.0             4   40000    10  \n",
       "3175       5.0             0   90000    10  \n",
       "3223       5.0             4    5000    10  \n",
       "3280       5.0             0   12500    10  \n",
       "\n",
       "[2329 rows x 11 columns]"
      ]
     },
     "execution_count": 80,
     "metadata": {},
     "output_type": "execute_result"
    }
   ],
   "source": [
    "dfs['yhat'] = yhat\n",
    "dfs"
   ]
  },
  {
   "cell_type": "code",
   "execution_count": null,
   "metadata": {},
   "outputs": [],
   "source": []
  },
  {
   "cell_type": "markdown",
   "metadata": {},
   "source": []
  }
 ],
 "metadata": {
  "kernelspec": {
   "display_name": "Python 3",
   "language": "python",
   "name": "python3"
  },
  "language_info": {
   "codemirror_mode": {
    "name": "ipython",
    "version": 3
   },
   "file_extension": ".py",
   "mimetype": "text/x-python",
   "name": "python",
   "nbconvert_exporter": "python",
   "pygments_lexer": "ipython3",
   "version": "3.8.3"
  }
 },
 "nbformat": 4,
 "nbformat_minor": 4
}
