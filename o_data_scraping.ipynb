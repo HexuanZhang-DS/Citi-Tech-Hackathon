{
 "cells": [
  {
   "cell_type": "markdown",
   "metadata": {},
   "source": [
    "# Data Scraping\n",
    "\n",
    "*The objectives of this notebook:*\n",
    "- Combined all the datasets \n",
    "- Initial variable screening \n",
    "- Combining the different income variables into one column\n",
    "\n",
    "\n",
    "We begin by combining the loading and combining the dataframes"
   ]
  },
  {
   "cell_type": "code",
   "execution_count": 2,
   "metadata": {},
   "outputs": [],
   "source": [
    "import numpy as np\n",
    "import pandas as pd\n",
    "pd.set_option(\"display.max_rows\", 100)\n",
    "pd.set_option(\"display.max_columns\", None)\n",
    "import warnings\n",
    "warnings.filterwarnings(\"ignore\")"
   ]
  },
  {
   "cell_type": "code",
   "execution_count": 3,
   "metadata": {
    "scrolled": true
   },
   "outputs": [],
   "source": [
    "df_2000 = pd.read_spss(\"data/GSS2000.sav\")\n",
    "df_2002 = pd.read_spss(\"data/GSS2002.sav\")\n",
    "df_2004 = pd.read_spss(\"data/GSS2004.sav\")\n",
    "df_2006 = pd.read_spss(\"data/GSS2006.sav\")\n",
    "df_2008 = pd.read_spss(\"data/GSS2008.sav\")\n",
    "df_2010 = pd.read_spss(\"data/GSS2010.sav\")\n",
    "df_2012 = pd.read_spss(\"data/GSS2012.sav\")\n",
    "df_2014 = pd.read_spss(\"data/GSS2014.sav\")\n",
    "df_2016 = pd.read_spss(\"data/GSS2016.sav\")\n",
    "df_2018 = pd.read_spss(\"data/GSS2018.sav\")"
   ]
  },
  {
   "cell_type": "code",
   "execution_count": 4,
   "metadata": {},
   "outputs": [
    {
     "data": {
      "text/plain": [
       "(2817, 1161)"
      ]
     },
     "execution_count": 4,
     "metadata": {},
     "output_type": "execute_result"
    }
   ],
   "source": [
    "df_2000.shape"
   ]
  },
  {
   "cell_type": "code",
   "execution_count": 5,
   "metadata": {},
   "outputs": [],
   "source": [
    "#The columsn we intend to use in our product\n",
    "cols_of_interest = [\"OCC10\", \"ISCO681\", \"ISCO88\", \"SIBS\", \"AGE\", \"EDUC\", \"PAEDUC\", \"MAEDUC\", \n",
    "                    \"DEGREE\", \"PADEG\", \"MADEG\", \"MAJOR1\", \"MAJOR2\", \"DIPGED\", \"SECTOR\", \"BARATE\", \n",
    "                    \"SEX\", \"RACE\", \"RES16\", \"REG16\", \"FAMILY16\", \"MAWRKGRW\", \"BORN\", \n",
    "                    \"PARBORN\", \"GRANBORN\", \"RINCOME\", \"RINCOM98\", \"RINCOM06\", \"RINCOM16\", \"POLVIEWS\", \n",
    "                    \"REG16\", \"COOP\"]"
   ]
  },
  {
   "cell_type": "code",
   "execution_count": 55,
   "metadata": {},
   "outputs": [],
   "source": [
    "list_of_dfs = [df_2000, df_2002, df_2004, df_2006, df_2008, df_2010, df_2012, df_2014, df_2016, df_2018]\n",
    "\n",
    "df_combined = pd.DataFrame(columns=df_2000.columns)\n",
    "df_combined = df_combined.append(list_of_dfs, ignore_index=True)"
   ]
  },
  {
   "cell_type": "code",
   "execution_count": 56,
   "metadata": {
    "scrolled": true
   },
   "outputs": [
    {
     "data": {
      "text/plain": [
       "(26698, 3888)"
      ]
     },
     "execution_count": 56,
     "metadata": {},
     "output_type": "execute_result"
    }
   ],
   "source": [
    "df_combined.shape"
   ]
  },
  {
   "cell_type": "code",
   "execution_count": 57,
   "metadata": {},
   "outputs": [],
   "source": [
    "df = df_combined[cols_of_interest]"
   ]
  },
  {
   "cell_type": "code",
   "execution_count": 58,
   "metadata": {},
   "outputs": [
    {
     "data": {
      "text/plain": [
       "(26698, 32)"
      ]
     },
     "execution_count": 58,
     "metadata": {},
     "output_type": "execute_result"
    }
   ],
   "source": [
    "df.shape"
   ]
  },
  {
   "cell_type": "code",
   "execution_count": 59,
   "metadata": {
    "scrolled": true
   },
   "outputs": [
    {
     "data": {
      "text/html": [
       "<div>\n",
       "<style scoped>\n",
       "    .dataframe tbody tr th:only-of-type {\n",
       "        vertical-align: middle;\n",
       "    }\n",
       "\n",
       "    .dataframe tbody tr th {\n",
       "        vertical-align: top;\n",
       "    }\n",
       "\n",
       "    .dataframe thead th {\n",
       "        text-align: right;\n",
       "    }\n",
       "</style>\n",
       "<table border=\"1\" class=\"dataframe\">\n",
       "  <thead>\n",
       "    <tr style=\"text-align: right;\">\n",
       "      <th></th>\n",
       "      <th>OCC10</th>\n",
       "      <th>ISCO681</th>\n",
       "      <th>ISCO88</th>\n",
       "      <th>SIBS</th>\n",
       "      <th>AGE</th>\n",
       "      <th>EDUC</th>\n",
       "      <th>PAEDUC</th>\n",
       "      <th>MAEDUC</th>\n",
       "      <th>DEGREE</th>\n",
       "      <th>PADEG</th>\n",
       "      <th>MADEG</th>\n",
       "      <th>MAJOR1</th>\n",
       "      <th>MAJOR2</th>\n",
       "      <th>DIPGED</th>\n",
       "      <th>SECTOR</th>\n",
       "      <th>BARATE</th>\n",
       "      <th>SEX</th>\n",
       "      <th>RACE</th>\n",
       "      <th>RES16</th>\n",
       "      <th>REG16</th>\n",
       "      <th>FAMILY16</th>\n",
       "      <th>MAWRKGRW</th>\n",
       "      <th>BORN</th>\n",
       "      <th>PARBORN</th>\n",
       "      <th>GRANBORN</th>\n",
       "      <th>RINCOME</th>\n",
       "      <th>RINCOM98</th>\n",
       "      <th>RINCOM06</th>\n",
       "      <th>RINCOM16</th>\n",
       "      <th>POLVIEWS</th>\n",
       "      <th>REG16</th>\n",
       "      <th>COOP</th>\n",
       "    </tr>\n",
       "  </thead>\n",
       "  <tbody>\n",
       "    <tr>\n",
       "      <th>0</th>\n",
       "      <td>Broadcast and sound engineering technicians an...</td>\n",
       "      <td>8610</td>\n",
       "      <td>3132.0</td>\n",
       "      <td>1.0</td>\n",
       "      <td>26</td>\n",
       "      <td>16.0</td>\n",
       "      <td>16.0</td>\n",
       "      <td>16.0</td>\n",
       "      <td>BACHELOR</td>\n",
       "      <td>BACHELOR</td>\n",
       "      <td>GRADUATE</td>\n",
       "      <td>NaN</td>\n",
       "      <td>NaN</td>\n",
       "      <td>NaN</td>\n",
       "      <td>NaN</td>\n",
       "      <td>NaN</td>\n",
       "      <td>MALE</td>\n",
       "      <td>WHITE</td>\n",
       "      <td>CITY GT 250000</td>\n",
       "      <td>W. SOU. CENTRAL</td>\n",
       "      <td>MOTHER &amp; FATHER</td>\n",
       "      <td>YES</td>\n",
       "      <td>YES</td>\n",
       "      <td>BOTH IN U.S</td>\n",
       "      <td>1</td>\n",
       "      <td>$8000 TO 9999</td>\n",
       "      <td>$8 000 TO 9 999</td>\n",
       "      <td>NaN</td>\n",
       "      <td>NaN</td>\n",
       "      <td>SLGHTLY CONSERVATIVE</td>\n",
       "      <td>W. SOU. CENTRAL</td>\n",
       "      <td>FRIENDLY,INTERESTED</td>\n",
       "    </tr>\n",
       "    <tr>\n",
       "      <th>1</th>\n",
       "      <td>Secretaries and administrative assistants</td>\n",
       "      <td>3211</td>\n",
       "      <td>4115.0</td>\n",
       "      <td>4.0</td>\n",
       "      <td>48</td>\n",
       "      <td>15.0</td>\n",
       "      <td>9.0</td>\n",
       "      <td>16.0</td>\n",
       "      <td>HIGH SCHOOL</td>\n",
       "      <td>LT HIGH SCHOOL</td>\n",
       "      <td>GRADUATE</td>\n",
       "      <td>NaN</td>\n",
       "      <td>NaN</td>\n",
       "      <td>NaN</td>\n",
       "      <td>NaN</td>\n",
       "      <td>NaN</td>\n",
       "      <td>FEMALE</td>\n",
       "      <td>WHITE</td>\n",
       "      <td>CITY GT 250000</td>\n",
       "      <td>FOREIGN</td>\n",
       "      <td>MOTHER &amp; FATHER</td>\n",
       "      <td>YES</td>\n",
       "      <td>NO</td>\n",
       "      <td>NEITHER IN U.S</td>\n",
       "      <td>ALL IN U.S</td>\n",
       "      <td>$8000 TO 9999</td>\n",
       "      <td>$8 000 TO 9 999</td>\n",
       "      <td>NaN</td>\n",
       "      <td>NaN</td>\n",
       "      <td>CONSERVATIVE</td>\n",
       "      <td>FOREIGN</td>\n",
       "      <td>FRIENDLY,INTERESTED</td>\n",
       "    </tr>\n",
       "    <tr>\n",
       "      <th>2</th>\n",
       "      <td>NaN</td>\n",
       "      <td>NaN</td>\n",
       "      <td>NaN</td>\n",
       "      <td>4.0</td>\n",
       "      <td>67</td>\n",
       "      <td>13.0</td>\n",
       "      <td>12.0</td>\n",
       "      <td>12.0</td>\n",
       "      <td>HIGH SCHOOL</td>\n",
       "      <td>NaN</td>\n",
       "      <td>HIGH SCHOOL</td>\n",
       "      <td>NaN</td>\n",
       "      <td>NaN</td>\n",
       "      <td>NaN</td>\n",
       "      <td>NaN</td>\n",
       "      <td>NaN</td>\n",
       "      <td>FEMALE</td>\n",
       "      <td>WHITE</td>\n",
       "      <td>CITY GT 250000</td>\n",
       "      <td>W. SOU. CENTRAL</td>\n",
       "      <td>FATHER &amp; STPMOTHER</td>\n",
       "      <td>NO</td>\n",
       "      <td>YES</td>\n",
       "      <td>BOTH IN U.S</td>\n",
       "      <td>ALL IN U.S</td>\n",
       "      <td>NaN</td>\n",
       "      <td>NaN</td>\n",
       "      <td>NaN</td>\n",
       "      <td>NaN</td>\n",
       "      <td>CONSERVATIVE</td>\n",
       "      <td>W. SOU. CENTRAL</td>\n",
       "      <td>NaN</td>\n",
       "    </tr>\n",
       "    <tr>\n",
       "      <th>3</th>\n",
       "      <td>Veterinarians</td>\n",
       "      <td>6240</td>\n",
       "      <td>2223.0</td>\n",
       "      <td>2.0</td>\n",
       "      <td>39</td>\n",
       "      <td>14.0</td>\n",
       "      <td>12.0</td>\n",
       "      <td>14.0</td>\n",
       "      <td>HIGH SCHOOL</td>\n",
       "      <td>HIGH SCHOOL</td>\n",
       "      <td>HIGH SCHOOL</td>\n",
       "      <td>NaN</td>\n",
       "      <td>NaN</td>\n",
       "      <td>NaN</td>\n",
       "      <td>NaN</td>\n",
       "      <td>NaN</td>\n",
       "      <td>FEMALE</td>\n",
       "      <td>WHITE</td>\n",
       "      <td>50000 TO 250000</td>\n",
       "      <td>W. SOU. CENTRAL</td>\n",
       "      <td>MOTHER &amp; FATHER</td>\n",
       "      <td>YES</td>\n",
       "      <td>YES</td>\n",
       "      <td>BOTH IN U.S</td>\n",
       "      <td>2</td>\n",
       "      <td>NaN</td>\n",
       "      <td>NaN</td>\n",
       "      <td>NaN</td>\n",
       "      <td>NaN</td>\n",
       "      <td>SLGHTLY CONSERVATIVE</td>\n",
       "      <td>W. SOU. CENTRAL</td>\n",
       "      <td>FRIENDLY,INTERESTED</td>\n",
       "    </tr>\n",
       "    <tr>\n",
       "      <th>4</th>\n",
       "      <td>Air traffic controllers and airfield operation...</td>\n",
       "      <td>3590</td>\n",
       "      <td>3144.0</td>\n",
       "      <td>1.0</td>\n",
       "      <td>25</td>\n",
       "      <td>14.0</td>\n",
       "      <td>13.0</td>\n",
       "      <td>14.0</td>\n",
       "      <td>JUNIOR COLLEGE</td>\n",
       "      <td>HIGH SCHOOL</td>\n",
       "      <td>JUNIOR COLLEGE</td>\n",
       "      <td>NaN</td>\n",
       "      <td>NaN</td>\n",
       "      <td>NaN</td>\n",
       "      <td>NaN</td>\n",
       "      <td>NaN</td>\n",
       "      <td>FEMALE</td>\n",
       "      <td>WHITE</td>\n",
       "      <td>TOWN LT 50000</td>\n",
       "      <td>W. SOU. CENTRAL</td>\n",
       "      <td>MOTHER &amp; FATHER</td>\n",
       "      <td>YES</td>\n",
       "      <td>YES</td>\n",
       "      <td>BOTH IN U.S</td>\n",
       "      <td>ALL IN U.S</td>\n",
       "      <td>NaN</td>\n",
       "      <td>NaN</td>\n",
       "      <td>NaN</td>\n",
       "      <td>NaN</td>\n",
       "      <td>SLIGHTLY LIBERAL</td>\n",
       "      <td>W. SOU. CENTRAL</td>\n",
       "      <td>COOPERATIVE</td>\n",
       "    </tr>\n",
       "  </tbody>\n",
       "</table>\n",
       "</div>"
      ],
      "text/plain": [
       "                                               OCC10 ISCO681  ISCO88  SIBS  \\\n",
       "0  Broadcast and sound engineering technicians an...    8610  3132.0   1.0   \n",
       "1          Secretaries and administrative assistants    3211  4115.0   4.0   \n",
       "2                                                NaN     NaN     NaN   4.0   \n",
       "3                                      Veterinarians    6240  2223.0   2.0   \n",
       "4  Air traffic controllers and airfield operation...    3590  3144.0   1.0   \n",
       "\n",
       "  AGE  EDUC PAEDUC  MAEDUC          DEGREE           PADEG           MADEG  \\\n",
       "0  26  16.0   16.0    16.0        BACHELOR        BACHELOR        GRADUATE   \n",
       "1  48  15.0    9.0    16.0     HIGH SCHOOL  LT HIGH SCHOOL        GRADUATE   \n",
       "2  67  13.0   12.0    12.0     HIGH SCHOOL             NaN     HIGH SCHOOL   \n",
       "3  39  14.0   12.0    14.0     HIGH SCHOOL     HIGH SCHOOL     HIGH SCHOOL   \n",
       "4  25  14.0   13.0    14.0  JUNIOR COLLEGE     HIGH SCHOOL  JUNIOR COLLEGE   \n",
       "\n",
       "  MAJOR1 MAJOR2 DIPGED SECTOR BARATE     SEX   RACE            RES16  \\\n",
       "0    NaN    NaN    NaN    NaN    NaN    MALE  WHITE   CITY GT 250000   \n",
       "1    NaN    NaN    NaN    NaN    NaN  FEMALE  WHITE   CITY GT 250000   \n",
       "2    NaN    NaN    NaN    NaN    NaN  FEMALE  WHITE   CITY GT 250000   \n",
       "3    NaN    NaN    NaN    NaN    NaN  FEMALE  WHITE  50000 TO 250000   \n",
       "4    NaN    NaN    NaN    NaN    NaN  FEMALE  WHITE    TOWN LT 50000   \n",
       "\n",
       "             REG16            FAMILY16 MAWRKGRW BORN         PARBORN  \\\n",
       "0  W. SOU. CENTRAL     MOTHER & FATHER      YES  YES     BOTH IN U.S   \n",
       "1          FOREIGN     MOTHER & FATHER      YES   NO  NEITHER IN U.S   \n",
       "2  W. SOU. CENTRAL  FATHER & STPMOTHER       NO  YES     BOTH IN U.S   \n",
       "3  W. SOU. CENTRAL     MOTHER & FATHER      YES  YES     BOTH IN U.S   \n",
       "4  W. SOU. CENTRAL     MOTHER & FATHER      YES  YES     BOTH IN U.S   \n",
       "\n",
       "     GRANBORN        RINCOME         RINCOM98 RINCOM06 RINCOM16  \\\n",
       "0           1  $8000 TO 9999  $8 000 TO 9 999      NaN      NaN   \n",
       "1  ALL IN U.S  $8000 TO 9999  $8 000 TO 9 999      NaN      NaN   \n",
       "2  ALL IN U.S            NaN              NaN      NaN      NaN   \n",
       "3           2            NaN              NaN      NaN      NaN   \n",
       "4  ALL IN U.S            NaN              NaN      NaN      NaN   \n",
       "\n",
       "               POLVIEWS            REG16                 COOP  \n",
       "0  SLGHTLY CONSERVATIVE  W. SOU. CENTRAL  FRIENDLY,INTERESTED  \n",
       "1          CONSERVATIVE          FOREIGN  FRIENDLY,INTERESTED  \n",
       "2          CONSERVATIVE  W. SOU. CENTRAL                  NaN  \n",
       "3  SLGHTLY CONSERVATIVE  W. SOU. CENTRAL  FRIENDLY,INTERESTED  \n",
       "4      SLIGHTLY LIBERAL  W. SOU. CENTRAL          COOPERATIVE  "
      ]
     },
     "execution_count": 59,
     "metadata": {},
     "output_type": "execute_result"
    }
   ],
   "source": [
    "df.head()"
   ]
  },
  {
   "cell_type": "markdown",
   "metadata": {},
   "source": [
    "#### Data Types\n",
    "\n",
    "Converting certain variable dtypes to allow us to trim our datframe down to only college students."
   ]
  },
  {
   "cell_type": "code",
   "execution_count": 62,
   "metadata": {},
   "outputs": [
    {
     "data": {
      "text/plain": [
       "OCC10         object\n",
       "ISCO681       object\n",
       "ISCO88       float64\n",
       "SIBS         float64\n",
       "AGE         category\n",
       "EDUC         float64\n",
       "PAEDUC      category\n",
       "MAEDUC       float64\n",
       "DEGREE      category\n",
       "PADEG       category\n",
       "MADEG       category\n",
       "MAJOR1        object\n",
       "MAJOR2        object\n",
       "DIPGED        object\n",
       "SECTOR        object\n",
       "BARATE        object\n",
       "SEX         category\n",
       "RACE        category\n",
       "RES16       category\n",
       "REG16       category\n",
       "FAMILY16    category\n",
       "MAWRKGRW    category\n",
       "BORN        category\n",
       "PARBORN       object\n",
       "GRANBORN    category\n",
       "RINCOME     category\n",
       "RINCOM98      object\n",
       "RINCOM06      object\n",
       "RINCOM16      object\n",
       "POLVIEWS    category\n",
       "REG16       category\n",
       "COOP        category\n",
       "dtype: object"
      ]
     },
     "execution_count": 62,
     "metadata": {},
     "output_type": "execute_result"
    }
   ],
   "source": [
    "df.dtypes"
   ]
  },
  {
   "cell_type": "code",
   "execution_count": 63,
   "metadata": {},
   "outputs": [],
   "source": [
    "df = df[df[\"AGE\"] != \"89 OR OLDER\"]\n",
    "df[[\"SIBS\", \"AGE\", \"EDUC\",\"PAEDUC\",\"MAEDUC\"]]=df[[\"SIBS\", \"AGE\", \"EDUC\",\"PAEDUC\",\"MAEDUC\"]].apply(pd.to_numeric)"
   ]
  },
  {
   "cell_type": "code",
   "execution_count": 64,
   "metadata": {},
   "outputs": [],
   "source": [
    "#Removing all entries for those that are not within our target market (College Students)\n",
    "mask = (df['AGE'] >=21) & (df['AGE'] <= 45) & ((df['EDUC']>=16) | (df['DEGREE'] =='BACHELOR') | (df['DEGREE'] =='JUNIOR COLLEGE') | (df['DEGREE'] =='GRADUATE'))\n",
    "\n",
    "df = df[mask]"
   ]
  },
  {
   "cell_type": "code",
   "execution_count": 65,
   "metadata": {},
   "outputs": [
    {
     "data": {
      "text/plain": [
       "(4812, 32)"
      ]
     },
     "execution_count": 65,
     "metadata": {},
     "output_type": "execute_result"
    }
   ],
   "source": [
    "df.shape"
   ]
  },
  {
   "cell_type": "markdown",
   "metadata": {},
   "source": [
    "#### Creating the income column"
   ]
  },
  {
   "cell_type": "code",
   "execution_count": 67,
   "metadata": {},
   "outputs": [],
   "source": [
    "df[\"INCOME\"] = np.nan"
   ]
  },
  {
   "cell_type": "code",
   "execution_count": 71,
   "metadata": {},
   "outputs": [],
   "source": [
    "df[\"INCOME\"] = np.where(df[\"RINCOM16\"] != np.nan, df[\"RINCOM16\"], df[\"INCOME\"])\n",
    "df[\"INCOME\"] = np.where(df[\"RINCOM06\"] != np.nan, df[\"RINCOM06\"], df[\"INCOME\"])\n",
    "df[\"INCOME\"] = np.where(df[\"RINCOM98\"] != np.nan, df[\"RINCOM98\"], df[\"INCOME\"])\n",
    "df[\"INCOME\"] = np.where(df[\"RINCOME\"] != np.nan, df[\"RINCOME\"], df[\"INCOME\"])"
   ]
  },
  {
   "cell_type": "code",
   "execution_count": 72,
   "metadata": {},
   "outputs": [
    {
     "data": {
      "text/plain": [
       "MAJOR2      4532\n",
       "RINCOM16    4119\n",
       "BARATE      3969\n",
       "SECTOR      3771\n",
       "RINCOM98    3570\n",
       "MAJOR1      3179\n",
       "DIPGED      3108\n",
       "RINCOM06    2984\n",
       "ISCO681     1791\n",
       "INCOME      1077\n",
       "RINCOME     1077\n",
       "PAEDUC      1006\n",
       "PADEG       1003\n",
       "POLVIEWS     637\n",
       "MAEDUC       474\n",
       "MADEG        443\n",
       "MAWRKGRW     415\n",
       "GRANBORN     396\n",
       "SIBS         267\n",
       "PARBORN      260\n",
       "BORN         257\n",
       "RES16        255\n",
       "FAMILY16     255\n",
       "ISCO88       120\n",
       "OCC10        118\n",
       "COOP          24\n",
       "EDUC           4\n",
       "DEGREE         0\n",
       "AGE            0\n",
       "RACE           0\n",
       "REG16          0\n",
       "REG16          0\n",
       "SEX            0\n",
       "dtype: int64"
      ]
     },
     "execution_count": 72,
     "metadata": {},
     "output_type": "execute_result"
    }
   ],
   "source": [
    "df.isnull().sum().sort_values(ascending=False)"
   ]
  },
  {
   "cell_type": "code",
   "execution_count": 73,
   "metadata": {},
   "outputs": [],
   "source": [
    "df.drop([\"RINCOME\", \"RINCOM98\", \"RINCOM06\", \"RINCOM16\", \"ISCO681\",\"ISCO88\"], axis=1,inplace=True)\n",
    "df = df[df[\"INCOME\"].notnull()]"
   ]
  },
  {
   "cell_type": "code",
   "execution_count": 77,
   "metadata": {},
   "outputs": [
    {
     "data": {
      "text/plain": [
       "(3735, 27)"
      ]
     },
     "execution_count": 77,
     "metadata": {},
     "output_type": "execute_result"
    }
   ],
   "source": [
    "df.shape"
   ]
  },
  {
   "cell_type": "code",
   "execution_count": 78,
   "metadata": {},
   "outputs": [
    {
     "data": {
      "text/plain": [
       "MAJOR2      3525\n",
       "BARATE      3076\n",
       "SECTOR      2923\n",
       "MAJOR1      2492\n",
       "DIPGED      2438\n",
       "PADEG        761\n",
       "PAEDUC       759\n",
       "POLVIEWS     465\n",
       "MAEDUC       372\n",
       "MADEG        350\n",
       "MAWRKGRW     329\n",
       "GRANBORN     300\n",
       "SIBS         207\n",
       "BORN         203\n",
       "PARBORN      203\n",
       "RES16        202\n",
       "FAMILY16     202\n",
       "COOP          18\n",
       "EDUC           2\n",
       "OCC10          2\n",
       "DEGREE         0\n",
       "SEX            0\n",
       "RACE           0\n",
       "REG16          0\n",
       "AGE            0\n",
       "REG16          0\n",
       "INCOME         0\n",
       "dtype: int64"
      ]
     },
     "execution_count": 78,
     "metadata": {},
     "output_type": "execute_result"
    }
   ],
   "source": [
    "df.isnull().sum().sort_values(ascending=False)"
   ]
  },
  {
   "cell_type": "markdown",
   "metadata": {},
   "source": [
    "#### Saving the dataframe as a CSV "
   ]
  },
  {
   "cell_type": "code",
   "execution_count": 79,
   "metadata": {},
   "outputs": [],
   "source": [
    "df.to_csv(\"data/combined_data.csv\", index=False)"
   ]
  }
 ],
 "metadata": {
  "kernelspec": {
   "display_name": "Python 3",
   "language": "python",
   "name": "python3"
  },
  "language_info": {
   "codemirror_mode": {
    "name": "ipython",
    "version": 3
   },
   "file_extension": ".py",
   "mimetype": "text/x-python",
   "name": "python",
   "nbconvert_exporter": "python",
   "pygments_lexer": "ipython3",
   "version": "3.9.1"
  }
 },
 "nbformat": 4,
 "nbformat_minor": 4
}
