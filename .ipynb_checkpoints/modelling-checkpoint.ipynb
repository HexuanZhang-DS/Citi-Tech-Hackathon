{
 "cells": [
  {
   "cell_type": "code",
   "execution_count": 1,
   "id": "hydraulic-score",
   "metadata": {},
   "outputs": [],
   "source": [
    "import numpy as np\n",
    "import pandas as pd\n",
    "import pickle\n",
    "from sklearn.model_selection import train_test_split\n",
    "from sklearn import linear_model\n",
    "from sklearn.ensemble import RandomForestRegressor"
   ]
  },
  {
   "cell_type": "code",
   "execution_count": 2,
   "id": "proper-radiation",
   "metadata": {},
   "outputs": [],
   "source": [
    "data = pd.read_csv(\"data/final_data.csv\")"
   ]
  },
  {
   "cell_type": "code",
   "execution_count": 3,
   "id": "beneficial-halifax",
   "metadata": {},
   "outputs": [],
   "source": [
    "X = data.drop(columns=\"INCOME\")\n",
    "y = data[\"INCOME\"]"
   ]
  },
  {
   "cell_type": "code",
   "execution_count": 4,
   "id": "smoking-lightning",
   "metadata": {},
   "outputs": [],
   "source": [
    "X_train, X_test, y_train, y_test = train_test_split(X, y, test_size=0.2, random_state=42)"
   ]
  },
  {
   "cell_type": "markdown",
   "id": "fatty-rouge",
   "metadata": {},
   "source": [
    "### Linear Regression"
   ]
  },
  {
   "cell_type": "code",
   "execution_count": 5,
   "id": "peripheral-layout",
   "metadata": {},
   "outputs": [
    {
     "data": {
      "text/plain": [
       "-1.677398569889651e+19"
      ]
     },
     "execution_count": 5,
     "metadata": {},
     "output_type": "execute_result"
    }
   ],
   "source": [
    "LR = linear_model.LinearRegression().fit(X_train, y_train)\n",
    "LR.score(X_test, y_test)"
   ]
  },
  {
   "cell_type": "markdown",
   "id": "regulated-instruction",
   "metadata": {},
   "source": [
    "### Ridge Regression"
   ]
  },
  {
   "cell_type": "code",
   "execution_count": 6,
   "id": "acting-timer",
   "metadata": {},
   "outputs": [
    {
     "data": {
      "text/plain": [
       "0.15757294603748428"
      ]
     },
     "execution_count": 6,
     "metadata": {},
     "output_type": "execute_result"
    }
   ],
   "source": [
    "RR = linear_model.Ridge(alpha=85, random_state=42).fit(X_train, y_train)\n",
    "RR.score(X_test, y_test)"
   ]
  },
  {
   "cell_type": "markdown",
   "id": "engaged-journey",
   "metadata": {},
   "source": [
    "### Lasso"
   ]
  },
  {
   "cell_type": "code",
   "execution_count": 7,
   "id": "ancient-dealer",
   "metadata": {},
   "outputs": [
    {
     "data": {
      "text/plain": [
       "0.15091859140242336"
      ]
     },
     "execution_count": 7,
     "metadata": {},
     "output_type": "execute_result"
    }
   ],
   "source": [
    "LAS = linear_model.Lasso(alpha=85, random_state=42).fit(X_train, y_train)\n",
    "LAS.score(X_test, y_test)"
   ]
  },
  {
   "cell_type": "markdown",
   "id": "governing-chamber",
   "metadata": {},
   "source": [
    "### Random Forest"
   ]
  },
  {
   "cell_type": "code",
   "execution_count": 8,
   "id": "raised-render",
   "metadata": {},
   "outputs": [
    {
     "data": {
      "text/plain": [
       "0.14987449437771827"
      ]
     },
     "execution_count": 8,
     "metadata": {},
     "output_type": "execute_result"
    }
   ],
   "source": [
    "RF = RandomForestRegressor(max_depth=6, random_state=42).fit(X_train, y_train)\n",
    "RF.score(X_test, y_test)"
   ]
  },
  {
   "cell_type": "markdown",
   "id": "transparent-award",
   "metadata": {},
   "source": [
    "EXPORTING THE MODEL"
   ]
  },
  {
   "cell_type": "code",
   "execution_count": 9,
   "id": "durable-palestinian",
   "metadata": {},
   "outputs": [],
   "source": [
    "with open('model_pickle', 'wb') as f:\n",
    "    pickle.dump(RR, f)"
   ]
  },
  {
   "cell_type": "markdown",
   "id": "facial-hacker",
   "metadata": {},
   "source": [
    "# Without FE for Major"
   ]
  },
  {
   "cell_type": "code",
   "execution_count": 10,
   "id": "fresh-status",
   "metadata": {},
   "outputs": [
    {
     "data": {
      "text/html": [
       "<div>\n",
       "<style scoped>\n",
       "    .dataframe tbody tr th:only-of-type {\n",
       "        vertical-align: middle;\n",
       "    }\n",
       "\n",
       "    .dataframe tbody tr th {\n",
       "        vertical-align: top;\n",
       "    }\n",
       "\n",
       "    .dataframe thead th {\n",
       "        text-align: right;\n",
       "    }\n",
       "</style>\n",
       "<table border=\"1\" class=\"dataframe\">\n",
       "  <thead>\n",
       "    <tr style=\"text-align: right;\">\n",
       "      <th></th>\n",
       "      <th>SIBS</th>\n",
       "      <th>DEGREE_BACHELOR</th>\n",
       "      <th>DEGREE_GRADUATE</th>\n",
       "      <th>DEGREE_HIGH SCHOOL</th>\n",
       "      <th>DEGREE_JUNIOR COLLEGE</th>\n",
       "      <th>PADEG_BACHELOR</th>\n",
       "      <th>PADEG_GRADUATE</th>\n",
       "      <th>PADEG_HIGH SCHOOL</th>\n",
       "      <th>PADEG_JUNIOR COLLEGE</th>\n",
       "      <th>PADEG_LT HIGH SCHOOL</th>\n",
       "      <th>...</th>\n",
       "      <th>GRANBORN_4.0</th>\n",
       "      <th>GRANBORN_ALL IN U.S</th>\n",
       "      <th>POLVIEWS_CONSERVATIVE</th>\n",
       "      <th>POLVIEWS_EXTREMELY LIBERAL</th>\n",
       "      <th>POLVIEWS_EXTRMLY CONSERVATIVE</th>\n",
       "      <th>POLVIEWS_LIBERAL</th>\n",
       "      <th>POLVIEWS_MODERATE</th>\n",
       "      <th>POLVIEWS_SLGHTLY CONSERVATIVE</th>\n",
       "      <th>POLVIEWS_SLIGHTLY LIBERAL</th>\n",
       "      <th>INCOME</th>\n",
       "    </tr>\n",
       "  </thead>\n",
       "  <tbody>\n",
       "    <tr>\n",
       "      <th>0</th>\n",
       "      <td>0.0</td>\n",
       "      <td>1</td>\n",
       "      <td>0</td>\n",
       "      <td>0</td>\n",
       "      <td>0</td>\n",
       "      <td>0</td>\n",
       "      <td>0</td>\n",
       "      <td>0</td>\n",
       "      <td>1</td>\n",
       "      <td>0</td>\n",
       "      <td>...</td>\n",
       "      <td>0</td>\n",
       "      <td>1</td>\n",
       "      <td>0</td>\n",
       "      <td>0</td>\n",
       "      <td>0</td>\n",
       "      <td>1</td>\n",
       "      <td>0</td>\n",
       "      <td>0</td>\n",
       "      <td>0</td>\n",
       "      <td>30000</td>\n",
       "    </tr>\n",
       "    <tr>\n",
       "      <th>1</th>\n",
       "      <td>2.0</td>\n",
       "      <td>1</td>\n",
       "      <td>0</td>\n",
       "      <td>0</td>\n",
       "      <td>0</td>\n",
       "      <td>0</td>\n",
       "      <td>0</td>\n",
       "      <td>1</td>\n",
       "      <td>0</td>\n",
       "      <td>0</td>\n",
       "      <td>...</td>\n",
       "      <td>0</td>\n",
       "      <td>1</td>\n",
       "      <td>0</td>\n",
       "      <td>0</td>\n",
       "      <td>0</td>\n",
       "      <td>1</td>\n",
       "      <td>0</td>\n",
       "      <td>0</td>\n",
       "      <td>0</td>\n",
       "      <td>6000</td>\n",
       "    </tr>\n",
       "    <tr>\n",
       "      <th>2</th>\n",
       "      <td>3.0</td>\n",
       "      <td>0</td>\n",
       "      <td>0</td>\n",
       "      <td>0</td>\n",
       "      <td>1</td>\n",
       "      <td>0</td>\n",
       "      <td>0</td>\n",
       "      <td>1</td>\n",
       "      <td>0</td>\n",
       "      <td>0</td>\n",
       "      <td>...</td>\n",
       "      <td>1</td>\n",
       "      <td>0</td>\n",
       "      <td>0</td>\n",
       "      <td>0</td>\n",
       "      <td>0</td>\n",
       "      <td>1</td>\n",
       "      <td>0</td>\n",
       "      <td>0</td>\n",
       "      <td>0</td>\n",
       "      <td>90000</td>\n",
       "    </tr>\n",
       "    <tr>\n",
       "      <th>3</th>\n",
       "      <td>4.0</td>\n",
       "      <td>1</td>\n",
       "      <td>0</td>\n",
       "      <td>0</td>\n",
       "      <td>0</td>\n",
       "      <td>0</td>\n",
       "      <td>1</td>\n",
       "      <td>0</td>\n",
       "      <td>0</td>\n",
       "      <td>0</td>\n",
       "      <td>...</td>\n",
       "      <td>1</td>\n",
       "      <td>0</td>\n",
       "      <td>0</td>\n",
       "      <td>0</td>\n",
       "      <td>0</td>\n",
       "      <td>0</td>\n",
       "      <td>0</td>\n",
       "      <td>0</td>\n",
       "      <td>1</td>\n",
       "      <td>60000</td>\n",
       "    </tr>\n",
       "    <tr>\n",
       "      <th>4</th>\n",
       "      <td>2.0</td>\n",
       "      <td>1</td>\n",
       "      <td>0</td>\n",
       "      <td>0</td>\n",
       "      <td>0</td>\n",
       "      <td>0</td>\n",
       "      <td>0</td>\n",
       "      <td>1</td>\n",
       "      <td>0</td>\n",
       "      <td>0</td>\n",
       "      <td>...</td>\n",
       "      <td>0</td>\n",
       "      <td>0</td>\n",
       "      <td>0</td>\n",
       "      <td>0</td>\n",
       "      <td>0</td>\n",
       "      <td>1</td>\n",
       "      <td>0</td>\n",
       "      <td>0</td>\n",
       "      <td>0</td>\n",
       "      <td>30000</td>\n",
       "    </tr>\n",
       "  </tbody>\n",
       "</table>\n",
       "<p>5 rows × 129 columns</p>\n",
       "</div>"
      ],
      "text/plain": [
       "   SIBS  DEGREE_BACHELOR  DEGREE_GRADUATE  DEGREE_HIGH SCHOOL  \\\n",
       "0   0.0                1                0                   0   \n",
       "1   2.0                1                0                   0   \n",
       "2   3.0                0                0                   0   \n",
       "3   4.0                1                0                   0   \n",
       "4   2.0                1                0                   0   \n",
       "\n",
       "   DEGREE_JUNIOR COLLEGE  PADEG_BACHELOR  PADEG_GRADUATE  PADEG_HIGH SCHOOL  \\\n",
       "0                      0               0               0                  0   \n",
       "1                      0               0               0                  1   \n",
       "2                      1               0               0                  1   \n",
       "3                      0               0               1                  0   \n",
       "4                      0               0               0                  1   \n",
       "\n",
       "   PADEG_JUNIOR COLLEGE  PADEG_LT HIGH SCHOOL  ...  GRANBORN_4.0  \\\n",
       "0                     1                     0  ...             0   \n",
       "1                     0                     0  ...             0   \n",
       "2                     0                     0  ...             1   \n",
       "3                     0                     0  ...             1   \n",
       "4                     0                     0  ...             0   \n",
       "\n",
       "   GRANBORN_ALL IN U.S  POLVIEWS_CONSERVATIVE  POLVIEWS_EXTREMELY LIBERAL  \\\n",
       "0                    1                      0                           0   \n",
       "1                    1                      0                           0   \n",
       "2                    0                      0                           0   \n",
       "3                    0                      0                           0   \n",
       "4                    0                      0                           0   \n",
       "\n",
       "   POLVIEWS_EXTRMLY CONSERVATIVE  POLVIEWS_LIBERAL  POLVIEWS_MODERATE  \\\n",
       "0                              0                 1                  0   \n",
       "1                              0                 1                  0   \n",
       "2                              0                 1                  0   \n",
       "3                              0                 0                  0   \n",
       "4                              0                 1                  0   \n",
       "\n",
       "   POLVIEWS_SLGHTLY CONSERVATIVE  POLVIEWS_SLIGHTLY LIBERAL  INCOME  \n",
       "0                              0                          0   30000  \n",
       "1                              0                          0    6000  \n",
       "2                              0                          0   90000  \n",
       "3                              0                          1   60000  \n",
       "4                              0                          0   30000  \n",
       "\n",
       "[5 rows x 129 columns]"
      ]
     },
     "execution_count": 10,
     "metadata": {},
     "output_type": "execute_result"
    }
   ],
   "source": [
    "data2 = pd.read_csv(\"data/no_major_final.csv\")\n",
    "data2.head()"
   ]
  },
  {
   "cell_type": "code",
   "execution_count": 11,
   "id": "forward-slovak",
   "metadata": {},
   "outputs": [],
   "source": [
    "X2 = data2.drop(columns=\"INCOME\")\n",
    "y2 = data2[\"INCOME\"]"
   ]
  },
  {
   "cell_type": "code",
   "execution_count": 12,
   "id": "instrumental-designer",
   "metadata": {},
   "outputs": [],
   "source": [
    "X2_train, X2_test, y2_train, y2_test = train_test_split(X2, y2, test_size=0.2, random_state=42)"
   ]
  },
  {
   "cell_type": "markdown",
   "id": "paperback-shannon",
   "metadata": {},
   "source": [
    "### Linear Regression"
   ]
  },
  {
   "cell_type": "code",
   "execution_count": 13,
   "id": "naval-dealing",
   "metadata": {},
   "outputs": [
    {
     "data": {
      "text/plain": [
       "-5.515405562852804e+18"
      ]
     },
     "execution_count": 13,
     "metadata": {},
     "output_type": "execute_result"
    }
   ],
   "source": [
    "LR2 = linear_model.LinearRegression().fit(X2_train, y2_train)\n",
    "LR2.score(X2_test, y2_test)"
   ]
  },
  {
   "cell_type": "markdown",
   "id": "equipped-thread",
   "metadata": {},
   "source": [
    "### Ridge Regression"
   ]
  },
  {
   "cell_type": "code",
   "execution_count": 14,
   "id": "bright-sleeve",
   "metadata": {},
   "outputs": [
    {
     "data": {
      "text/plain": [
       "0.11425950601755575"
      ]
     },
     "execution_count": 14,
     "metadata": {},
     "output_type": "execute_result"
    }
   ],
   "source": [
    "RR2 = linear_model.Ridge(alpha=90, random_state=42).fit(X2_train, y2_train)\n",
    "RR2.score(X2_test, y2_test)"
   ]
  },
  {
   "cell_type": "markdown",
   "id": "incorporate-drove",
   "metadata": {},
   "source": [
    "### Lasso"
   ]
  },
  {
   "cell_type": "code",
   "execution_count": 15,
   "id": "focused-infrastructure",
   "metadata": {},
   "outputs": [
    {
     "data": {
      "text/plain": [
       "0.1114772292514451"
      ]
     },
     "execution_count": 15,
     "metadata": {},
     "output_type": "execute_result"
    }
   ],
   "source": [
    "LAS2 = linear_model.Lasso(alpha=500, random_state=42).fit(X2_train, y2_train)\n",
    "LAS2.score(X2_test, y2_test)"
   ]
  },
  {
   "cell_type": "markdown",
   "id": "expected-sodium",
   "metadata": {},
   "source": [
    "### Random Forest"
   ]
  },
  {
   "cell_type": "code",
   "execution_count": 16,
   "id": "renewable-union",
   "metadata": {},
   "outputs": [
    {
     "data": {
      "text/plain": [
       "0.07222040405741348"
      ]
     },
     "execution_count": 16,
     "metadata": {},
     "output_type": "execute_result"
    }
   ],
   "source": [
    "RF2 = RandomForestRegressor(max_depth=2, random_state=42).fit(X2_train, y2_train)\n",
    "RF2.score(X2_test, y2_test)"
   ]
  },
  {
   "cell_type": "markdown",
   "id": "expensive-consultancy",
   "metadata": {},
   "source": [
    "# TF/Keras"
   ]
  },
  {
   "cell_type": "code",
   "execution_count": 37,
   "id": "broken-mills",
   "metadata": {},
   "outputs": [],
   "source": [
    "from keras.models import Sequential\n",
    "from keras.layers import Dense\n",
    "from tensorflow.keras.utils import plot_model\n",
    "from sklearn import metrics\n",
    "import matplotlib.pyplot as plt"
   ]
  },
  {
   "cell_type": "code",
   "execution_count": 29,
   "id": "defensive-assist",
   "metadata": {},
   "outputs": [],
   "source": [
    "modelff = Sequential()\n",
    "modelff.add(Dense(20, input_shape=(128,), activation=\"relu\"))\n",
    "modelff.add(Dense(5, activation=\"relu\"))\n",
    "modelff.add(Dense(1))\n",
    "\n",
    "modelff.compile(loss='mean_squared_error', optimizer='adam', metrics=['accuracy'])"
   ]
  },
  {
   "cell_type": "code",
   "execution_count": 19,
   "id": "chemical-subdivision",
   "metadata": {},
   "outputs": [
    {
     "name": "stdout",
     "output_type": "stream",
     "text": [
      "Model: \"sequential\"\n",
      "_________________________________________________________________\n",
      "Layer (type)                 Output Shape              Param #   \n",
      "=================================================================\n",
      "dense (Dense)                (None, 20)                2580      \n",
      "_________________________________________________________________\n",
      "dense_1 (Dense)              (None, 5)                 105       \n",
      "_________________________________________________________________\n",
      "dense_2 (Dense)              (None, 1)                 6         \n",
      "=================================================================\n",
      "Total params: 2,691\n",
      "Trainable params: 2,691\n",
      "Non-trainable params: 0\n",
      "_________________________________________________________________\n"
     ]
    }
   ],
   "source": [
    "modelff.summary()"
   ]
  },
  {
   "cell_type": "code",
   "execution_count": 30,
   "id": "minor-gathering",
   "metadata": {},
   "outputs": [
    {
     "name": "stdout",
     "output_type": "stream",
     "text": [
      "95/95 [==============================] - 1s 987us/step - loss: 3055136402.6667 - accuracy: 0.0051\n"
     ]
    }
   ],
   "source": [
    "num_epochs = 100\n",
    "history = modelff.fit(X_train, y_train.values)"
   ]
  },
  {
   "cell_type": "code",
   "execution_count": 22,
   "id": "polar-swiss",
   "metadata": {},
   "outputs": [
    {
     "data": {
      "text/html": [
       "<div>\n",
       "<style scoped>\n",
       "    .dataframe tbody tr th:only-of-type {\n",
       "        vertical-align: middle;\n",
       "    }\n",
       "\n",
       "    .dataframe tbody tr th {\n",
       "        vertical-align: top;\n",
       "    }\n",
       "\n",
       "    .dataframe thead th {\n",
       "        text-align: right;\n",
       "    }\n",
       "</style>\n",
       "<table border=\"1\" class=\"dataframe\">\n",
       "  <thead>\n",
       "    <tr style=\"text-align: right;\">\n",
       "      <th></th>\n",
       "      <th>SIBS</th>\n",
       "      <th>DEGREE_BACHELOR</th>\n",
       "      <th>DEGREE_GRADUATE</th>\n",
       "      <th>DEGREE_HIGH SCHOOL</th>\n",
       "      <th>DEGREE_JUNIOR COLLEGE</th>\n",
       "      <th>PADEG_BACHELOR</th>\n",
       "      <th>PADEG_GRADUATE</th>\n",
       "      <th>PADEG_HIGH SCHOOL</th>\n",
       "      <th>PADEG_JUNIOR COLLEGE</th>\n",
       "      <th>PADEG_LT HIGH SCHOOL</th>\n",
       "      <th>...</th>\n",
       "      <th>GRANBORN_4.0</th>\n",
       "      <th>GRANBORN_ALL IN U.S</th>\n",
       "      <th>POLVIEWS_CONSERVATIVE</th>\n",
       "      <th>POLVIEWS_EXTREMELY LIBERAL</th>\n",
       "      <th>POLVIEWS_EXTRMLY CONSERVATIVE</th>\n",
       "      <th>POLVIEWS_LIBERAL</th>\n",
       "      <th>POLVIEWS_MODERATE</th>\n",
       "      <th>POLVIEWS_SLGHTLY CONSERVATIVE</th>\n",
       "      <th>POLVIEWS_SLIGHTLY LIBERAL</th>\n",
       "      <th>INCOME</th>\n",
       "    </tr>\n",
       "  </thead>\n",
       "  <tbody>\n",
       "    <tr>\n",
       "      <th>0</th>\n",
       "      <td>1.0</td>\n",
       "      <td>1</td>\n",
       "      <td>0</td>\n",
       "      <td>0</td>\n",
       "      <td>0</td>\n",
       "      <td>1</td>\n",
       "      <td>0</td>\n",
       "      <td>0</td>\n",
       "      <td>0</td>\n",
       "      <td>0</td>\n",
       "      <td>...</td>\n",
       "      <td>0</td>\n",
       "      <td>0</td>\n",
       "      <td>0</td>\n",
       "      <td>0</td>\n",
       "      <td>0</td>\n",
       "      <td>0</td>\n",
       "      <td>0</td>\n",
       "      <td>1</td>\n",
       "      <td>0</td>\n",
       "      <td>8000</td>\n",
       "    </tr>\n",
       "    <tr>\n",
       "      <th>1</th>\n",
       "      <td>6.0</td>\n",
       "      <td>0</td>\n",
       "      <td>0</td>\n",
       "      <td>0</td>\n",
       "      <td>1</td>\n",
       "      <td>0</td>\n",
       "      <td>0</td>\n",
       "      <td>1</td>\n",
       "      <td>0</td>\n",
       "      <td>0</td>\n",
       "      <td>...</td>\n",
       "      <td>0</td>\n",
       "      <td>0</td>\n",
       "      <td>0</td>\n",
       "      <td>0</td>\n",
       "      <td>0</td>\n",
       "      <td>1</td>\n",
       "      <td>0</td>\n",
       "      <td>0</td>\n",
       "      <td>0</td>\n",
       "      <td>7000</td>\n",
       "    </tr>\n",
       "    <tr>\n",
       "      <th>2</th>\n",
       "      <td>0.0</td>\n",
       "      <td>0</td>\n",
       "      <td>1</td>\n",
       "      <td>0</td>\n",
       "      <td>0</td>\n",
       "      <td>0</td>\n",
       "      <td>0</td>\n",
       "      <td>1</td>\n",
       "      <td>0</td>\n",
       "      <td>0</td>\n",
       "      <td>...</td>\n",
       "      <td>0</td>\n",
       "      <td>1</td>\n",
       "      <td>0</td>\n",
       "      <td>0</td>\n",
       "      <td>0</td>\n",
       "      <td>0</td>\n",
       "      <td>0</td>\n",
       "      <td>0</td>\n",
       "      <td>1</td>\n",
       "      <td>50000</td>\n",
       "    </tr>\n",
       "    <tr>\n",
       "      <th>3</th>\n",
       "      <td>8.0</td>\n",
       "      <td>0</td>\n",
       "      <td>0</td>\n",
       "      <td>1</td>\n",
       "      <td>0</td>\n",
       "      <td>0</td>\n",
       "      <td>0</td>\n",
       "      <td>0</td>\n",
       "      <td>0</td>\n",
       "      <td>1</td>\n",
       "      <td>...</td>\n",
       "      <td>0</td>\n",
       "      <td>1</td>\n",
       "      <td>0</td>\n",
       "      <td>0</td>\n",
       "      <td>0</td>\n",
       "      <td>0</td>\n",
       "      <td>1</td>\n",
       "      <td>0</td>\n",
       "      <td>0</td>\n",
       "      <td>25000</td>\n",
       "    </tr>\n",
       "    <tr>\n",
       "      <th>4</th>\n",
       "      <td>7.0</td>\n",
       "      <td>1</td>\n",
       "      <td>0</td>\n",
       "      <td>0</td>\n",
       "      <td>0</td>\n",
       "      <td>0</td>\n",
       "      <td>0</td>\n",
       "      <td>1</td>\n",
       "      <td>0</td>\n",
       "      <td>0</td>\n",
       "      <td>...</td>\n",
       "      <td>0</td>\n",
       "      <td>1</td>\n",
       "      <td>0</td>\n",
       "      <td>0</td>\n",
       "      <td>0</td>\n",
       "      <td>1</td>\n",
       "      <td>0</td>\n",
       "      <td>0</td>\n",
       "      <td>0</td>\n",
       "      <td>75000</td>\n",
       "    </tr>\n",
       "  </tbody>\n",
       "</table>\n",
       "<p>5 rows × 129 columns</p>\n",
       "</div>"
      ],
      "text/plain": [
       "   SIBS  DEGREE_BACHELOR  DEGREE_GRADUATE  DEGREE_HIGH SCHOOL  \\\n",
       "0   1.0                1                0                   0   \n",
       "1   6.0                0                0                   0   \n",
       "2   0.0                0                1                   0   \n",
       "3   8.0                0                0                   1   \n",
       "4   7.0                1                0                   0   \n",
       "\n",
       "   DEGREE_JUNIOR COLLEGE  PADEG_BACHELOR  PADEG_GRADUATE  PADEG_HIGH SCHOOL  \\\n",
       "0                      0               1               0                  0   \n",
       "1                      1               0               0                  1   \n",
       "2                      0               0               0                  1   \n",
       "3                      0               0               0                  0   \n",
       "4                      0               0               0                  1   \n",
       "\n",
       "   PADEG_JUNIOR COLLEGE  PADEG_LT HIGH SCHOOL  ...  GRANBORN_4.0  \\\n",
       "0                     0                     0  ...             0   \n",
       "1                     0                     0  ...             0   \n",
       "2                     0                     0  ...             0   \n",
       "3                     0                     1  ...             0   \n",
       "4                     0                     0  ...             0   \n",
       "\n",
       "   GRANBORN_ALL IN U.S  POLVIEWS_CONSERVATIVE  POLVIEWS_EXTREMELY LIBERAL  \\\n",
       "0                    0                      0                           0   \n",
       "1                    0                      0                           0   \n",
       "2                    1                      0                           0   \n",
       "3                    1                      0                           0   \n",
       "4                    1                      0                           0   \n",
       "\n",
       "   POLVIEWS_EXTRMLY CONSERVATIVE  POLVIEWS_LIBERAL  POLVIEWS_MODERATE  \\\n",
       "0                              0                 0                  0   \n",
       "1                              0                 1                  0   \n",
       "2                              0                 0                  0   \n",
       "3                              0                 0                  1   \n",
       "4                              0                 1                  0   \n",
       "\n",
       "   POLVIEWS_SLGHTLY CONSERVATIVE  POLVIEWS_SLIGHTLY LIBERAL  INCOME  \n",
       "0                              1                          0    8000  \n",
       "1                              0                          0    7000  \n",
       "2                              0                          1   50000  \n",
       "3                              0                          0   25000  \n",
       "4                              0                          0   75000  \n",
       "\n",
       "[5 rows x 129 columns]"
      ]
     },
     "execution_count": 22,
     "metadata": {},
     "output_type": "execute_result"
    }
   ],
   "source": [
    "data.head()"
   ]
  },
  {
   "cell_type": "code",
   "execution_count": 23,
   "id": "composed-threshold",
   "metadata": {},
   "outputs": [],
   "source": [
    "data[\"INCOME_pred\"] = RR.predict(data.drop(columns=\"INCOME\"))"
   ]
  },
  {
   "cell_type": "code",
   "execution_count": 24,
   "id": "matched-potter",
   "metadata": {},
   "outputs": [
    {
     "data": {
      "text/html": [
       "<div>\n",
       "<style scoped>\n",
       "    .dataframe tbody tr th:only-of-type {\n",
       "        vertical-align: middle;\n",
       "    }\n",
       "\n",
       "    .dataframe tbody tr th {\n",
       "        vertical-align: top;\n",
       "    }\n",
       "\n",
       "    .dataframe thead th {\n",
       "        text-align: right;\n",
       "    }\n",
       "</style>\n",
       "<table border=\"1\" class=\"dataframe\">\n",
       "  <thead>\n",
       "    <tr style=\"text-align: right;\">\n",
       "      <th></th>\n",
       "      <th>SIBS</th>\n",
       "      <th>DEGREE_BACHELOR</th>\n",
       "      <th>DEGREE_GRADUATE</th>\n",
       "      <th>DEGREE_HIGH SCHOOL</th>\n",
       "      <th>DEGREE_JUNIOR COLLEGE</th>\n",
       "      <th>PADEG_BACHELOR</th>\n",
       "      <th>PADEG_GRADUATE</th>\n",
       "      <th>PADEG_HIGH SCHOOL</th>\n",
       "      <th>PADEG_JUNIOR COLLEGE</th>\n",
       "      <th>PADEG_LT HIGH SCHOOL</th>\n",
       "      <th>...</th>\n",
       "      <th>GRANBORN_ALL IN U.S</th>\n",
       "      <th>POLVIEWS_CONSERVATIVE</th>\n",
       "      <th>POLVIEWS_EXTREMELY LIBERAL</th>\n",
       "      <th>POLVIEWS_EXTRMLY CONSERVATIVE</th>\n",
       "      <th>POLVIEWS_LIBERAL</th>\n",
       "      <th>POLVIEWS_MODERATE</th>\n",
       "      <th>POLVIEWS_SLGHTLY CONSERVATIVE</th>\n",
       "      <th>POLVIEWS_SLIGHTLY LIBERAL</th>\n",
       "      <th>INCOME</th>\n",
       "      <th>INCOME_pred</th>\n",
       "    </tr>\n",
       "  </thead>\n",
       "  <tbody>\n",
       "    <tr>\n",
       "      <th>0</th>\n",
       "      <td>1.0</td>\n",
       "      <td>1</td>\n",
       "      <td>0</td>\n",
       "      <td>0</td>\n",
       "      <td>0</td>\n",
       "      <td>1</td>\n",
       "      <td>0</td>\n",
       "      <td>0</td>\n",
       "      <td>0</td>\n",
       "      <td>0</td>\n",
       "      <td>...</td>\n",
       "      <td>0</td>\n",
       "      <td>0</td>\n",
       "      <td>0</td>\n",
       "      <td>0</td>\n",
       "      <td>0</td>\n",
       "      <td>0</td>\n",
       "      <td>1</td>\n",
       "      <td>0</td>\n",
       "      <td>8000</td>\n",
       "      <td>54881.141374</td>\n",
       "    </tr>\n",
       "    <tr>\n",
       "      <th>1</th>\n",
       "      <td>6.0</td>\n",
       "      <td>0</td>\n",
       "      <td>0</td>\n",
       "      <td>0</td>\n",
       "      <td>1</td>\n",
       "      <td>0</td>\n",
       "      <td>0</td>\n",
       "      <td>1</td>\n",
       "      <td>0</td>\n",
       "      <td>0</td>\n",
       "      <td>...</td>\n",
       "      <td>0</td>\n",
       "      <td>0</td>\n",
       "      <td>0</td>\n",
       "      <td>0</td>\n",
       "      <td>1</td>\n",
       "      <td>0</td>\n",
       "      <td>0</td>\n",
       "      <td>0</td>\n",
       "      <td>7000</td>\n",
       "      <td>24013.531877</td>\n",
       "    </tr>\n",
       "    <tr>\n",
       "      <th>2</th>\n",
       "      <td>0.0</td>\n",
       "      <td>0</td>\n",
       "      <td>1</td>\n",
       "      <td>0</td>\n",
       "      <td>0</td>\n",
       "      <td>0</td>\n",
       "      <td>0</td>\n",
       "      <td>1</td>\n",
       "      <td>0</td>\n",
       "      <td>0</td>\n",
       "      <td>...</td>\n",
       "      <td>1</td>\n",
       "      <td>0</td>\n",
       "      <td>0</td>\n",
       "      <td>0</td>\n",
       "      <td>0</td>\n",
       "      <td>0</td>\n",
       "      <td>0</td>\n",
       "      <td>1</td>\n",
       "      <td>50000</td>\n",
       "      <td>63645.460282</td>\n",
       "    </tr>\n",
       "    <tr>\n",
       "      <th>3</th>\n",
       "      <td>8.0</td>\n",
       "      <td>0</td>\n",
       "      <td>0</td>\n",
       "      <td>1</td>\n",
       "      <td>0</td>\n",
       "      <td>0</td>\n",
       "      <td>0</td>\n",
       "      <td>0</td>\n",
       "      <td>0</td>\n",
       "      <td>1</td>\n",
       "      <td>...</td>\n",
       "      <td>1</td>\n",
       "      <td>0</td>\n",
       "      <td>0</td>\n",
       "      <td>0</td>\n",
       "      <td>0</td>\n",
       "      <td>1</td>\n",
       "      <td>0</td>\n",
       "      <td>0</td>\n",
       "      <td>25000</td>\n",
       "      <td>31703.561658</td>\n",
       "    </tr>\n",
       "    <tr>\n",
       "      <th>4</th>\n",
       "      <td>7.0</td>\n",
       "      <td>1</td>\n",
       "      <td>0</td>\n",
       "      <td>0</td>\n",
       "      <td>0</td>\n",
       "      <td>0</td>\n",
       "      <td>0</td>\n",
       "      <td>1</td>\n",
       "      <td>0</td>\n",
       "      <td>0</td>\n",
       "      <td>...</td>\n",
       "      <td>1</td>\n",
       "      <td>0</td>\n",
       "      <td>0</td>\n",
       "      <td>0</td>\n",
       "      <td>1</td>\n",
       "      <td>0</td>\n",
       "      <td>0</td>\n",
       "      <td>0</td>\n",
       "      <td>75000</td>\n",
       "      <td>43781.411405</td>\n",
       "    </tr>\n",
       "  </tbody>\n",
       "</table>\n",
       "<p>5 rows × 130 columns</p>\n",
       "</div>"
      ],
      "text/plain": [
       "   SIBS  DEGREE_BACHELOR  DEGREE_GRADUATE  DEGREE_HIGH SCHOOL  \\\n",
       "0   1.0                1                0                   0   \n",
       "1   6.0                0                0                   0   \n",
       "2   0.0                0                1                   0   \n",
       "3   8.0                0                0                   1   \n",
       "4   7.0                1                0                   0   \n",
       "\n",
       "   DEGREE_JUNIOR COLLEGE  PADEG_BACHELOR  PADEG_GRADUATE  PADEG_HIGH SCHOOL  \\\n",
       "0                      0               1               0                  0   \n",
       "1                      1               0               0                  1   \n",
       "2                      0               0               0                  1   \n",
       "3                      0               0               0                  0   \n",
       "4                      0               0               0                  1   \n",
       "\n",
       "   PADEG_JUNIOR COLLEGE  PADEG_LT HIGH SCHOOL  ...  GRANBORN_ALL IN U.S  \\\n",
       "0                     0                     0  ...                    0   \n",
       "1                     0                     0  ...                    0   \n",
       "2                     0                     0  ...                    1   \n",
       "3                     0                     1  ...                    1   \n",
       "4                     0                     0  ...                    1   \n",
       "\n",
       "   POLVIEWS_CONSERVATIVE  POLVIEWS_EXTREMELY LIBERAL  \\\n",
       "0                      0                           0   \n",
       "1                      0                           0   \n",
       "2                      0                           0   \n",
       "3                      0                           0   \n",
       "4                      0                           0   \n",
       "\n",
       "   POLVIEWS_EXTRMLY CONSERVATIVE  POLVIEWS_LIBERAL  POLVIEWS_MODERATE  \\\n",
       "0                              0                 0                  0   \n",
       "1                              0                 1                  0   \n",
       "2                              0                 0                  0   \n",
       "3                              0                 0                  1   \n",
       "4                              0                 1                  0   \n",
       "\n",
       "   POLVIEWS_SLGHTLY CONSERVATIVE  POLVIEWS_SLIGHTLY LIBERAL  INCOME  \\\n",
       "0                              1                          0    8000   \n",
       "1                              0                          0    7000   \n",
       "2                              0                          1   50000   \n",
       "3                              0                          0   25000   \n",
       "4                              0                          0   75000   \n",
       "\n",
       "    INCOME_pred  \n",
       "0  54881.141374  \n",
       "1  24013.531877  \n",
       "2  63645.460282  \n",
       "3  31703.561658  \n",
       "4  43781.411405  \n",
       "\n",
       "[5 rows x 130 columns]"
      ]
     },
     "execution_count": 24,
     "metadata": {},
     "output_type": "execute_result"
    }
   ],
   "source": [
    "data.head()"
   ]
  },
  {
   "cell_type": "code",
   "execution_count": null,
   "id": "liable-force",
   "metadata": {},
   "outputs": [],
   "source": []
  }
 ],
 "metadata": {
  "kernelspec": {
   "display_name": "Python 3",
   "language": "python",
   "name": "python3"
  },
  "language_info": {
   "codemirror_mode": {
    "name": "ipython",
    "version": 3
   },
   "file_extension": ".py",
   "mimetype": "text/x-python",
   "name": "python",
   "nbconvert_exporter": "python",
   "pygments_lexer": "ipython3",
   "version": "3.8.7"
  }
 },
 "nbformat": 4,
 "nbformat_minor": 5
}
